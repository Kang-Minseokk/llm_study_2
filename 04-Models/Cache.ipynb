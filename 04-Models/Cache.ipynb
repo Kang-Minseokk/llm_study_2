{
 "cells": [
  {
   "cell_type": "code",
   "id": "initial_id",
   "metadata": {
    "collapsed": true,
    "ExecuteTime": {
     "end_time": "2024-09-24T13:10:49.527204Z",
     "start_time": "2024-09-24T13:10:49.518639Z"
    }
   },
   "source": [
    "# API KEY를 환경변수로 관리하기 위한 설정 파일\n",
    "from dotenv import load_dotenv\n",
    "\n",
    "# API KEY 정보로드\n",
    "load_dotenv()"
   ],
   "outputs": [
    {
     "data": {
      "text/plain": [
       "True"
      ]
     },
     "execution_count": 1,
     "metadata": {},
     "output_type": "execute_result"
    }
   ],
   "execution_count": 1
  },
  {
   "metadata": {
    "ExecuteTime": {
     "end_time": "2024-09-24T13:10:55.467684Z",
     "start_time": "2024-09-24T13:10:55.461353Z"
    }
   },
   "cell_type": "code",
   "source": [
    "# LangSmith 추적을 설정합니다. https://smith.langchain.com\n",
    "# !pip install langchain-teddynote\n",
    "from langchain_teddynote import logging\n",
    "\n",
    "# 프로젝트 이름을 입력합니다.\n",
    "logging.langsmith(\"CH04-Models\")"
   ],
   "id": "2c99b33625123e18",
   "outputs": [
    {
     "name": "stdout",
     "output_type": "stream",
     "text": [
      "LangSmith 추적을 시작합니다.\n",
      "[프로젝트명]\n",
      "CH04-Models\n"
     ]
    }
   ],
   "execution_count": 2
  },
  {
   "metadata": {
    "ExecuteTime": {
     "end_time": "2024-09-24T13:11:01.618531Z",
     "start_time": "2024-09-24T13:11:00.927416Z"
    }
   },
   "cell_type": "code",
   "source": [
    "from langchain_openai import ChatOpenAI\n",
    "from langchain_core.prompts import PromptTemplate\n",
    "\n",
    "# 모델을 생성합니다.\n",
    "llm = ChatOpenAI(model_name=\"gpt-3.5-turbo\")\n",
    "\n",
    "# 프롬프트를 생성합니다.\n",
    "prompt = PromptTemplate.from_template(\"{country} 에 대해서 200자 내외로 요약해줘\")\n",
    "\n",
    "# 체인을 생성합니다.\n",
    "chain = prompt | llm"
   ],
   "id": "725881e80fbdef3d",
   "outputs": [],
   "execution_count": 3
  },
  {
   "metadata": {
    "ExecuteTime": {
     "end_time": "2024-09-24T13:12:00.981469Z",
     "start_time": "2024-09-24T13:11:57.729257Z"
    }
   },
   "cell_type": "code",
   "source": [
    "%%time \n",
    "response = chain.invoke({\"country\": \"한국\"})\n",
    "print(response.content)"
   ],
   "id": "6c53b2012f55733",
   "outputs": [
    {
     "name": "stdout",
     "output_type": "stream",
     "text": [
      "한국은 동아시아에 위치한 나라로, 서울을 수도로 하고 있습니다. 역사적으로 고조선, 삼국, 고려, 조선 등 다양한 왕조가 세워졌고, 현재는 대한민국으로 민주공화국으로 운영되고 있습니다. 한국은 세계적으로 유명한 K-pop, K-drama, 한식 등의 문화를 가지고 있으며, 경제적으로도 세계에서 주요한 역할을 하고 있습니다. 한국은 또한 기술 발전과 혁신적인 IT 산업으로도 유명하며, 세계 각국과의 교류와 협력을 통해 글로벌 강국으로 발전하고 있는 중요한 국가입니다.\n",
      "CPU times: user 1.08 s, sys: 626 ms, total: 1.71 s\n",
      "Wall time: 3.25 s\n"
     ]
    }
   ],
   "execution_count": 4
  },
  {
   "metadata": {
    "ExecuteTime": {
     "end_time": "2024-09-24T13:19:42.007072Z",
     "start_time": "2024-09-24T13:19:38.720393Z"
    }
   },
   "cell_type": "code",
   "source": [
    "%%time\n",
    "from langchain.globals import set_llm_cache\n",
    "from langchain.cache import InMemoryCache\n",
    "\n",
    "# 인메모리 캐시를 사용합니다.\n",
    "set_llm_cache(InMemoryCache())\n",
    "\n",
    "# 체인을 실행합니다.\n",
    "response = chain.invoke({\"country\": \"한국\"})\n",
    "print(response.content)"
   ],
   "id": "f9bc4205877bd1d2",
   "outputs": [
    {
     "name": "stdout",
     "output_type": "stream",
     "text": [
      "한국은 동아시아에 위치한 나라로, 서울이 수도이다. 전통적인 문화와 현대화가 조화를 이루는 나라로, K-pop, K-drama 등의 문화 콘텐츠로 세계적인 인기를 끌고 있다. 경제적으로는 세계적인 기업들이 발전하고 있으며, IT 기술 분야에서도 선두를 달리고 있다. 한국은 또한 불교와 기독교가 주요 종교이며, 전통적인 한복과 한식이 유명하다. 또한 북한과의 관계가 긴장되어 있으며, 한반도의 평화와 통일을 위해 노력하고 있다.\n",
      "CPU times: user 11.4 ms, sys: 11.5 ms, total: 22.9 ms\n",
      "Wall time: 3.28 s\n"
     ]
    }
   ],
   "execution_count": 7
  },
  {
   "metadata": {
    "ExecuteTime": {
     "end_time": "2024-09-24T13:19:54.455267Z",
     "start_time": "2024-09-24T13:19:54.373293Z"
    }
   },
   "cell_type": "code",
   "source": [
    "%%time\n",
    "# 체인을 실행합니다.\n",
    "response = chain.invoke({\"country\": \"한국\"})\n",
    "print(response.content)"
   ],
   "id": "c99f8e7bf79be736",
   "outputs": [
    {
     "name": "stdout",
     "output_type": "stream",
     "text": [
      "한국은 동아시아에 위치한 나라로, 서울이 수도이다. 역사적으로는 고대 시대부터 현재까지 다양한 왕조와 문화를 거쳐왔으며, 한반도 분단과 한일 갈등 등의 역사적 사건들을 겪었다. 현재는 선진화된 경제와 기술력을 바탕으로 세계적으로 주목받는 나라로 성장하고 있다. 한류 열풍으로 한국 문화뿐만 아니라 음식, 패션, 영화 등이 세계적으로 인기를 끌고 있으며, K-POP과 K-드라마는 전 세계적으로 사랑받고 있다. 또한 한반도의 평화를 위해 남북관계와 국제사회와의 협력을 강화하고 있으며, 글로벌 문화 교류와 협력을 적극적으로 추진하고 있다.\n",
      "CPU times: user 47.7 ms, sys: 33.5 ms, total: 81.2 ms\n",
      "Wall time: 78.9 ms\n"
     ]
    }
   ],
   "execution_count": 10
  },
  {
   "metadata": {
    "ExecuteTime": {
     "end_time": "2024-09-24T13:19:42.025631Z",
     "start_time": "2024-09-24T13:19:42.008885Z"
    }
   },
   "cell_type": "code",
   "source": [
    "from langchain_community.cache import SQLiteCache\n",
    "from langchain_core.globals import set_llm_cache\n",
    "import os\n",
    "\n",
    "# 캐시 디렉토리를 생성합니다.\n",
    "if not os.path.exists(\"cache\"):\n",
    "    os.makedirs(\"cache\")\n",
    "\n",
    "# SQLiteCache를 사용합니다.\n",
    "set_llm_cache(SQLiteCache(database_path=\"cache/llm_cache.db\"))"
   ],
   "id": "90e5952fca4c793e",
   "outputs": [],
   "execution_count": 8
  },
  {
   "metadata": {
    "ExecuteTime": {
     "end_time": "2024-09-24T13:19:49.798247Z",
     "start_time": "2024-09-24T13:19:46.064963Z"
    }
   },
   "cell_type": "code",
   "source": [
    "%%time \n",
    "# 체인을 실행합니다.\n",
    "response = chain.invoke({\"country\": \"한국\"})\n",
    "print(response.content)"
   ],
   "id": "9f637959133671fd",
   "outputs": [
    {
     "name": "stdout",
     "output_type": "stream",
     "text": [
      "한국은 동아시아에 위치한 나라로, 서울이 수도이다. 역사적으로는 고대 시대부터 현재까지 다양한 왕조와 문화를 거쳐왔으며, 한반도 분단과 한일 갈등 등의 역사적 사건들을 겪었다. 현재는 선진화된 경제와 기술력을 바탕으로 세계적으로 주목받는 나라로 성장하고 있다. 한류 열풍으로 한국 문화뿐만 아니라 음식, 패션, 영화 등이 세계적으로 인기를 끌고 있으며, K-POP과 K-드라마는 전 세계적으로 사랑받고 있다. 또한 한반도의 평화를 위해 남북관계와 국제사회와의 협력을 강화하고 있으며, 글로벌 문화 교류와 협력을 적극적으로 추진하고 있다.\n",
      "CPU times: user 22.1 ms, sys: 25.2 ms, total: 47.4 ms\n",
      "Wall time: 3.73 s\n"
     ]
    }
   ],
   "execution_count": 9
  },
  {
   "metadata": {},
   "cell_type": "code",
   "outputs": [],
   "execution_count": null,
   "source": "",
   "id": "be7e2c55fd943512"
  }
 ],
 "metadata": {
  "kernelspec": {
   "display_name": "Python 3",
   "language": "python",
   "name": "python3"
  },
  "language_info": {
   "codemirror_mode": {
    "name": "ipython",
    "version": 2
   },
   "file_extension": ".py",
   "mimetype": "text/x-python",
   "name": "python",
   "nbconvert_exporter": "python",
   "pygments_lexer": "ipython2",
   "version": "2.7.6"
  }
 },
 "nbformat": 4,
 "nbformat_minor": 5
}
