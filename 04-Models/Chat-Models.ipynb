{
 "cells": [
  {
   "metadata": {
    "ExecuteTime": {
     "end_time": "2024-09-24T13:02:31.571654Z",
     "start_time": "2024-09-24T13:02:31.562371Z"
    }
   },
   "cell_type": "code",
   "source": [
    "from dotenv import load_dotenv\n",
    "load_dotenv()"
   ],
   "id": "1b1a455caa32f7ac",
   "outputs": [
    {
     "data": {
      "text/plain": [
       "True"
      ]
     },
     "execution_count": 1,
     "metadata": {},
     "output_type": "execute_result"
    }
   ],
   "execution_count": 1
  },
  {
   "metadata": {
    "ExecuteTime": {
     "end_time": "2024-09-24T13:03:25.641297Z",
     "start_time": "2024-09-24T13:03:25.512881Z"
    }
   },
   "cell_type": "code",
   "source": [
    "from langchain_teddynote import logging\n",
    "from langchain_teddynote.messages import stream_response\n",
    "\n",
    "logging.langsmith('CH04-Models')"
   ],
   "id": "850d05008fac0299",
   "outputs": [
    {
     "name": "stdout",
     "output_type": "stream",
     "text": [
      "LangSmith 추적을 시작합니다.\n",
      "[프로젝트명]\n",
      "CH04-Models\n"
     ]
    }
   ],
   "execution_count": 2
  },
  {
   "metadata": {
    "ExecuteTime": {
     "end_time": "2024-09-24T13:06:18.013200Z",
     "start_time": "2024-09-24T13:06:11.033575Z"
    }
   },
   "cell_type": "code",
   "source": [
    "from langchain_openai import ChatOpenAI\n",
    "\n",
    "# ChatOpenAI 객체를 생성합니다.\n",
    "gpt = ChatOpenAI(\n",
    "    temperature=0,\n",
    "    model_name=\"gpt-4o\",  # 모델명\n",
    ")\n",
    "\n",
    "# 스트리밍 출력을 위하여 invoke() 대신 stream()을 사용합니다.\n",
    "answer = gpt.stream(\"사랑이 뭔가요?\")\n",
    "\n",
    "# 답변 출력\n",
    "stream_response(answer)"
   ],
   "id": "845096a0a17ecb8f",
   "outputs": [
    {
     "name": "stdout",
     "output_type": "stream",
     "text": [
      "사랑은 매우 복잡하고 다차원적인 감정으로, 사람마다 다르게 경험하고 표현할 수 있습니다. 일반적으로 사랑은 깊은 애정, 헌신, 그리고 상호 존중을 포함하는 감정입니다. 사랑은 로맨틱한 관계에서뿐만 아니라 가족, 친구, 그리고 심지어는 취미나 일에 대한 열정에서도 나타날 수 있습니다.\n",
      "\n",
      "사랑의 종류는 여러 가지가 있습니다. 예를 들어, 에로스(eros)는 로맨틱하고 열정적인 사랑을 의미하며, 필리아(philia)는 친구 간의 우정과 애정을 나타냅니다. 아가페(agape)는 무조건적이고 이타적인 사랑을 의미하며, 스토르게(storge)는 가족 간의 자연스러운 애정을 나타냅니다.\n",
      "\n",
      "사랑은 사람들에게 큰 행복을 줄 수 있지만, 때로는 고통과 어려움을 동반하기도 합니다. 중요한 것은 사랑이 상호 존중과 이해를 바탕으로 해야 한다는 점입니다. 사랑은 서로를 성장시키고 지지하는 힘이 될 수 있습니다."
     ]
    }
   ],
   "execution_count": 3
  },
  {
   "metadata": {},
   "cell_type": "code",
   "outputs": [],
   "execution_count": null,
   "source": "",
   "id": "2a468d42aabf3339"
  }
 ],
 "metadata": {
  "kernelspec": {
   "display_name": "Python 3",
   "language": "python",
   "name": "python3"
  },
  "language_info": {
   "codemirror_mode": {
    "name": "ipython",
    "version": 2
   },
   "file_extension": ".py",
   "mimetype": "text/x-python",
   "name": "python",
   "nbconvert_exporter": "python",
   "pygments_lexer": "ipython2",
   "version": "2.7.6"
  }
 },
 "nbformat": 4,
 "nbformat_minor": 5
}
