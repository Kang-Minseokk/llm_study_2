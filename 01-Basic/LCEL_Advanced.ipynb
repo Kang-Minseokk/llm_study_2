{
 "cells": [
  {
   "cell_type": "code",
   "id": "initial_id",
   "metadata": {
    "collapsed": true,
    "ExecuteTime": {
     "end_time": "2024-09-11T13:43:59.816095Z",
     "start_time": "2024-09-11T13:43:59.809302Z"
    }
   },
   "source": [
    "from dotenv import load_dotenv\n",
    "load_dotenv()"
   ],
   "outputs": [
    {
     "data": {
      "text/plain": [
       "True"
      ]
     },
     "execution_count": 1,
     "metadata": {},
     "output_type": "execute_result"
    }
   ],
   "execution_count": 1
  },
  {
   "metadata": {
    "ExecuteTime": {
     "end_time": "2024-09-11T13:47:38.002416Z",
     "start_time": "2024-09-11T13:47:37.382249Z"
    }
   },
   "cell_type": "code",
   "source": [
    "from langchain_openai import ChatOpenAI\n",
    "from langchain_core.prompts import PromptTemplate\n",
    "from langchain_core.output_parsers import StrOutputParser\n",
    "\n",
    "model = ChatOpenAI()\n",
    "prompt = PromptTemplate.from_template(\"{topic}에 대하여 3문장으로 설명해줘.\")\n",
    "chain = prompt | model | StrOutputParser()"
   ],
   "id": "d29bf1ebff8884eb",
   "outputs": [],
   "execution_count": 2
  },
  {
   "metadata": {
    "ExecuteTime": {
     "end_time": "2024-09-11T13:48:23.506632Z",
     "start_time": "2024-09-11T13:48:19.597962Z"
    }
   },
   "cell_type": "code",
   "source": [
    "for token in chain.stream({\"topic\": \"멀티모달\"}):\n",
    "    print(token, end=\"\", flush=True)"
   ],
   "id": "cead885bfb9b7779",
   "outputs": [
    {
     "name": "stdout",
     "output_type": "stream",
     "text": [
      "멀티모달이란 여러 가지 다양한 형태의 정보와 자원을 하나의 플랫폼에서 통합적으로 제공하는 시스템을 말합니다. 이는 사용자들이 편리하게 정보를 찾고 접근할 수 있도록 도와주며, 시각, 청각, 언어 등 다양한 요소를 고려하여 정보를 전달합니다. 멀티모달은 다양한 매체를 활용하여 사용자 경험을 향상시키고, 효율적인 정보 전달을 도와줍니다."
     ]
    }
   ],
   "execution_count": 3
  },
  {
   "metadata": {
    "ExecuteTime": {
     "end_time": "2024-09-11T13:53:05.889509Z",
     "start_time": "2024-09-11T13:53:02.465230Z"
    }
   },
   "cell_type": "code",
   "source": [
    "async for token in chain.astream({\"topic\": \"YouTube\"}):\n",
    "    print(token, end=\"\", flush=True)"
   ],
   "id": "4a5053a5827138c4",
   "outputs": [
    {
     "name": "stdout",
     "output_type": "stream",
     "text": [
      "YouTube는 동영상 공유 플랫폼으로, 사용자들이 자신의 동영상을 업로드하고 시청할 수 있는 서비스이다. 다양한 주제와 콘텐츠를 제공하며, 누구나 쉽게 접근하여 소통과 정보를 공유할 수 있다. 유명 인물들이나 크리에이터들이 활발하게 활동하며, 수익 창출도 가능하다."
     ]
    }
   ],
   "execution_count": 9
  },
  {
   "metadata": {},
   "cell_type": "code",
   "outputs": [],
   "execution_count": null,
   "source": "",
   "id": "d07f62298956af64"
  }
 ],
 "metadata": {
  "kernelspec": {
   "display_name": "Python 3",
   "language": "python",
   "name": "python3"
  },
  "language_info": {
   "codemirror_mode": {
    "name": "ipython",
    "version": 2
   },
   "file_extension": ".py",
   "mimetype": "text/x-python",
   "name": "python",
   "nbconvert_exporter": "python",
   "pygments_lexer": "ipython2",
   "version": "2.7.6"
  }
 },
 "nbformat": 4,
 "nbformat_minor": 5
}
