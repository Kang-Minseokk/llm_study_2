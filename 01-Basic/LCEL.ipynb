{
 "cells": [
  {
   "cell_type": "code",
   "id": "initial_id",
   "metadata": {
    "collapsed": true,
    "ExecuteTime": {
     "end_time": "2024-09-10T13:14:30.422669Z",
     "start_time": "2024-09-10T13:14:30.417651Z"
    }
   },
   "source": [
    "from dotenv import load_dotenv\n",
    "load_dotenv()"
   ],
   "outputs": [
    {
     "data": {
      "text/plain": [
       "True"
      ]
     },
     "execution_count": 2,
     "metadata": {},
     "output_type": "execute_result"
    }
   ],
   "execution_count": 2
  },
  {
   "metadata": {
    "ExecuteTime": {
     "end_time": "2024-09-10T13:18:12.921632Z",
     "start_time": "2024-09-10T13:18:12.912724Z"
    }
   },
   "cell_type": "code",
   "source": [
    "from langchain_teddynote import logging\n",
    "logging.langsmith(\"CH01-Basic\")"
   ],
   "id": "f665e876deb2d2a4",
   "outputs": [],
   "execution_count": 3
  },
  {
   "metadata": {},
   "cell_type": "markdown",
   "source": "## 프롬포트 템플릿의 활용",
   "id": "a36620e8fcae38c4"
  },
  {
   "metadata": {
    "ExecuteTime": {
     "end_time": "2024-09-10T13:22:36.324673Z",
     "start_time": "2024-09-10T13:22:36.046598Z"
    }
   },
   "cell_type": "code",
   "source": [
    "from langchain_teddynote.messages import stream_response  # 스트리밍 출력\n",
    "from langchain_core.prompts import PromptTemplate"
   ],
   "id": "bb9b7bf68104712",
   "outputs": [],
   "execution_count": 4
  },
  {
   "metadata": {
    "ExecuteTime": {
     "end_time": "2024-09-10T13:23:15.864103Z",
     "start_time": "2024-09-10T13:23:15.861436Z"
    }
   },
   "cell_type": "code",
   "source": [
    "template = \"{country}의 수도는 어디입니까?\"\n",
    "\n",
    "prompt_template = PromptTemplate.from_template(template)\n",
    "prompt_template"
   ],
   "id": "f0c071de7871c7d4",
   "outputs": [
    {
     "data": {
      "text/plain": [
       "PromptTemplate(input_variables=['country'], template='{country}의 수도는 어디입니까?')"
      ]
     },
     "execution_count": 6,
     "metadata": {},
     "output_type": "execute_result"
    }
   ],
   "execution_count": 6
  },
  {
   "metadata": {
    "ExecuteTime": {
     "end_time": "2024-09-10T13:26:49.869284Z",
     "start_time": "2024-09-10T13:26:49.866473Z"
    }
   },
   "cell_type": "code",
   "source": [
    "prompt = prompt_template.format(country=\"인도\")\n",
    "prompt"
   ],
   "id": "b17e0c75cee2e888",
   "outputs": [
    {
     "data": {
      "text/plain": [
       "'인도의 수도는 어디입니까?'"
      ]
     },
     "execution_count": 32,
     "metadata": {},
     "output_type": "execute_result"
    }
   ],
   "execution_count": 32
  },
  {
   "metadata": {
    "ExecuteTime": {
     "end_time": "2024-09-10T13:26:50.856244Z",
     "start_time": "2024-09-10T13:26:50.015513Z"
    }
   },
   "cell_type": "code",
   "source": [
    "from langchain_openai import ChatOpenAI\n",
    "\n",
    "model = ChatOpenAI(\n",
    "    model=\"gpt-3.5-turbo\",\n",
    "    max_tokens=2048,\n",
    "    temperature=0.1,\n",
    ")\n",
    "model.invoke(prompt)"
   ],
   "id": "df565cb0557f733b",
   "outputs": [
    {
     "data": {
      "text/plain": [
       "AIMessage(content='인도의 수도는 뉴델리입니다.', additional_kwargs={'refusal': None}, response_metadata={'token_usage': {'completion_tokens': 14, 'prompt_tokens': 21, 'total_tokens': 35}, 'model_name': 'gpt-3.5-turbo-0125', 'system_fingerprint': None, 'finish_reason': 'stop', 'logprobs': None}, id='run-282dbfb6-5641-4633-83d9-1f52ccc193c3-0', usage_metadata={'input_tokens': 21, 'output_tokens': 14, 'total_tokens': 35})"
      ]
     },
     "execution_count": 33,
     "metadata": {},
     "output_type": "execute_result"
    }
   ],
   "execution_count": 33
  },
  {
   "metadata": {
    "ExecuteTime": {
     "end_time": "2024-09-10T13:27:39.758620Z",
     "start_time": "2024-09-10T13:27:39.737408Z"
    }
   },
   "cell_type": "code",
   "source": [
    "prompt = PromptTemplate.from_template(\"{topic} 에 대해 쉽게 설명해주세요.\")\n",
    "\n",
    "model = ChatOpenAI()\n",
    "\n",
    "chain = prompt | model"
   ],
   "id": "9cd25a6cbb8646bc",
   "outputs": [],
   "execution_count": 34
  },
  {
   "metadata": {
    "ExecuteTime": {
     "end_time": "2024-09-10T13:28:24.559431Z",
     "start_time": "2024-09-10T13:28:18.520210Z"
    }
   },
   "cell_type": "code",
   "source": [
    "input = {\"topic\": \"인공지능 모델의 학습 원리\"}\n",
    "chain.invoke(input)"
   ],
   "id": "366e149a1c168b2c",
   "outputs": [
    {
     "data": {
      "text/plain": [
       "AIMessage(content='인공지능 모델의 학습 원리는 데이터를 입력으로 받아서 패턴이나 규칙을 학습하는 과정입니다. 이 학습 과정은 크게 두 가지 방법으로 이루어집니다.\\n\\n첫 번째는 지도 학습이라고 하는 방법으로, 모델은 입력 데이터와 그에 상응하는 정답 레이블을 함께 학습합니다. 모델은 입력 데이터를 분석하여 정답 레이블을 예측하고, 예측 값과 정답 값을 비교하여 오차를 줄이는 방향으로 학습을 진행합니다.\\n\\n두 번째는 비지도 학습이라고 하는 방법으로, 모델은 정답 레이블이 주어지지 않은 상태에서 입력 데이터의 패턴이나 구조를 찾아 학습합니다. 이 방법은 데이터 간의 유사성을 파악하거나 데이터의 분포를 이해하는데 사용됩니다.\\n\\n이러한 과정을 반복하여 모델은 데이터의 특성을 학습하고, 새로운 입력 데이터가 주어졌을 때 정확한 예측을 할 수 있도록 개선됩니다. 이렇게 학습된 모델은 실제 상황에서도 유용하게 활용될 수 있습니다.', additional_kwargs={'refusal': None}, response_metadata={'token_usage': {'completion_tokens': 383, 'prompt_tokens': 33, 'total_tokens': 416}, 'model_name': 'gpt-3.5-turbo-0125', 'system_fingerprint': None, 'finish_reason': 'stop', 'logprobs': None}, id='run-210b8c20-3bce-4326-9685-dbd3e24a49ea-0', usage_metadata={'input_tokens': 33, 'output_tokens': 383, 'total_tokens': 416})"
      ]
     },
     "execution_count": 36,
     "metadata": {},
     "output_type": "execute_result"
    }
   ],
   "execution_count": 36
  },
  {
   "metadata": {},
   "cell_type": "code",
   "outputs": [],
   "execution_count": null,
   "source": "",
   "id": "d42514f8257dec27"
  }
 ],
 "metadata": {
  "kernelspec": {
   "display_name": "Python 3",
   "language": "python",
   "name": "python3"
  },
  "language_info": {
   "codemirror_mode": {
    "name": "ipython",
    "version": 2
   },
   "file_extension": ".py",
   "mimetype": "text/x-python",
   "name": "python",
   "nbconvert_exporter": "python",
   "pygments_lexer": "ipython2",
   "version": "2.7.6"
  }
 },
 "nbformat": 4,
 "nbformat_minor": 5
}
