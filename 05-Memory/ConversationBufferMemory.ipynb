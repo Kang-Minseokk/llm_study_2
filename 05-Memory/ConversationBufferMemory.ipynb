{
 "cells": [
  {
   "cell_type": "code",
   "id": "initial_id",
   "metadata": {
    "collapsed": true,
    "ExecuteTime": {
     "end_time": "2024-09-26T14:38:18.650936Z",
     "start_time": "2024-09-26T14:38:17.918422Z"
    }
   },
   "source": "from langchain.memory import ConversationBufferMemory",
   "outputs": [],
   "execution_count": 1
  },
  {
   "metadata": {
    "ExecuteTime": {
     "end_time": "2024-09-26T14:38:33.371198Z",
     "start_time": "2024-09-26T14:38:33.361741Z"
    }
   },
   "cell_type": "code",
   "source": [
    "memory = ConversationBufferMemory()\n",
    "memory"
   ],
   "id": "85c198e795cccdaf",
   "outputs": [
    {
     "data": {
      "text/plain": [
       "ConversationBufferMemory(chat_memory=InMemoryChatMessageHistory(messages=[]))"
      ]
     },
     "execution_count": 2,
     "metadata": {},
     "output_type": "execute_result"
    }
   ],
   "execution_count": 2
  },
  {
   "metadata": {
    "ExecuteTime": {
     "end_time": "2024-09-26T14:38:39.749767Z",
     "start_time": "2024-09-26T14:38:39.745984Z"
    }
   },
   "cell_type": "code",
   "source": [
    "memory.save_context(\n",
    "    inputs={\n",
    "        \"human\": \"안녕하세요, 비대면으로 은행 계좌를 개설하고 싶습니다. 어떻게 시작해야 하나요?\"\n",
    "    },\n",
    "    outputs={\n",
    "        \"ai\": \"안녕하세요! 계좌 개설을 원하신다니 기쁩니다. 먼저, 본인 인증을 위해 신분증을 준비해 주시겠어요?\"\n",
    "    },\n",
    ")"
   ],
   "id": "53eefc19d1012086",
   "outputs": [],
   "execution_count": 3
  },
  {
   "metadata": {
    "ExecuteTime": {
     "end_time": "2024-09-26T14:38:55.671952Z",
     "start_time": "2024-09-26T14:38:55.667356Z"
    }
   },
   "cell_type": "code",
   "source": "memory",
   "id": "3577de97834feaff",
   "outputs": [
    {
     "data": {
      "text/plain": [
       "ConversationBufferMemory(chat_memory=InMemoryChatMessageHistory(messages=[HumanMessage(content='안녕하세요, 비대면으로 은행 계좌를 개설하고 싶습니다. 어떻게 시작해야 하나요?', additional_kwargs={}, response_metadata={}), AIMessage(content='안녕하세요! 계좌 개설을 원하신다니 기쁩니다. 먼저, 본인 인증을 위해 신분증을 준비해 주시겠어요?', additional_kwargs={}, response_metadata={})]))"
      ]
     },
     "execution_count": 5,
     "metadata": {},
     "output_type": "execute_result"
    }
   ],
   "execution_count": 5
  },
  {
   "metadata": {
    "ExecuteTime": {
     "end_time": "2024-09-26T14:41:38.661150Z",
     "start_time": "2024-09-26T14:41:38.658417Z"
    }
   },
   "cell_type": "code",
   "source": "print(memory.load_memory_variables({})[\"history\"])",
   "id": "6804d061ea260c95",
   "outputs": [
    {
     "name": "stdout",
     "output_type": "stream",
     "text": [
      "Human: 안녕하세요, 비대면으로 은행 계좌를 개설하고 싶습니다. 어떻게 시작해야 하나요?\n",
      "AI: 안녕하세요! 계좌 개설을 원하신다니 기쁩니다. 먼저, 본인 인증을 위해 신분증을 준비해 주시겠어요?\n",
      "Human: 네, 신분증을 준비했습니다. 이제 무엇을 해야 하나요?\n",
      "AI: 감사합니다. 신분증 앞뒤를 명확하게 촬영하여 업로드해 주세요. 이후 본인 인증 절차를 진행하겠습니다.\n"
     ]
    }
   ],
   "execution_count": 8
  },
  {
   "metadata": {
    "ExecuteTime": {
     "end_time": "2024-09-26T14:41:34.974378Z",
     "start_time": "2024-09-26T14:41:34.971014Z"
    }
   },
   "cell_type": "code",
   "source": [
    "memory.save_context(\n",
    "    inputs={\"human\": \"네, 신분증을 준비했습니다. 이제 무엇을 해야 하나요?\"},\n",
    "    outputs={\n",
    "        \"ai\": \"감사합니다. 신분증 앞뒤를 명확하게 촬영하여 업로드해 주세요. 이후 본인 인증 절차를 진행하겠습니다.\"\n",
    "    },\n",
    ")"
   ],
   "id": "282aedb725c18e95",
   "outputs": [],
   "execution_count": 7
  },
  {
   "metadata": {
    "ExecuteTime": {
     "end_time": "2024-09-26T14:41:49.615015Z",
     "start_time": "2024-09-26T14:41:49.611496Z"
    }
   },
   "cell_type": "code",
   "source": [
    "# 2개의 대화를 저장합니다.\n",
    "memory.save_context(\n",
    "    inputs={\"human\": \"사진을 업로드했습니다. 본인 인증은 어떻게 진행되나요?\"},\n",
    "    outputs={\n",
    "        \"ai\": \"업로드해 주신 사진을 확인했습니다. 이제 휴대폰을 통한 본인 인증을 진행해 주세요. 문자로 발송된 인증번호를 입력해 주시면 됩니다.\"\n",
    "    },\n",
    ")\n",
    "memory.save_context(\n",
    "    inputs={\"human\": \"인증번호를 입력했습니다. 계좌 개설은 이제 어떻게 하나요?\"},\n",
    "    outputs={\n",
    "        \"ai\": \"본인 인증이 완료되었습니다. 이제 원하시는 계좌 종류를 선택하고 필요한 정보를 입력해 주세요. 예금 종류, 통화 종류 등을 선택할 수 있습니다.\"\n",
    "    },\n",
    ")"
   ],
   "id": "21f03bae398d0ab7",
   "outputs": [],
   "execution_count": 9
  },
  {
   "metadata": {
    "ExecuteTime": {
     "end_time": "2024-09-26T14:41:55.115514Z",
     "start_time": "2024-09-26T14:41:55.113494Z"
    }
   },
   "cell_type": "code",
   "source": "print(memory.load_memory_variables({})[\"history\"])",
   "id": "a40e81647dd97603",
   "outputs": [
    {
     "name": "stdout",
     "output_type": "stream",
     "text": [
      "Human: 안녕하세요, 비대면으로 은행 계좌를 개설하고 싶습니다. 어떻게 시작해야 하나요?\n",
      "AI: 안녕하세요! 계좌 개설을 원하신다니 기쁩니다. 먼저, 본인 인증을 위해 신분증을 준비해 주시겠어요?\n",
      "Human: 네, 신분증을 준비했습니다. 이제 무엇을 해야 하나요?\n",
      "AI: 감사합니다. 신분증 앞뒤를 명확하게 촬영하여 업로드해 주세요. 이후 본인 인증 절차를 진행하겠습니다.\n",
      "Human: 사진을 업로드했습니다. 본인 인증은 어떻게 진행되나요?\n",
      "AI: 업로드해 주신 사진을 확인했습니다. 이제 휴대폰을 통한 본인 인증을 진행해 주세요. 문자로 발송된 인증번호를 입력해 주시면 됩니다.\n",
      "Human: 인증번호를 입력했습니다. 계좌 개설은 이제 어떻게 하나요?\n",
      "AI: 본인 인증이 완료되었습니다. 이제 원하시는 계좌 종류를 선택하고 필요한 정보를 입력해 주세요. 예금 종류, 통화 종류 등을 선택할 수 있습니다.\n"
     ]
    }
   ],
   "execution_count": 10
  },
  {
   "metadata": {
    "ExecuteTime": {
     "end_time": "2024-09-26T14:42:02.464427Z",
     "start_time": "2024-09-26T14:42:02.461248Z"
    }
   },
   "cell_type": "code",
   "source": [
    "# 추가로 2개의 대화를 저장합니다.\n",
    "memory.save_context(\n",
    "    inputs={\"human\": \"정보를 모두 입력했습니다. 다음 단계는 무엇인가요?\"},\n",
    "    outputs={\n",
    "        \"ai\": \"입력해 주신 정보를 확인했습니다. 계좌 개설 절차가 거의 끝났습니다. 마지막으로 이용 약관에 동의해 주시고, 계좌 개설을 최종 확인해 주세요.\"\n",
    "    },\n",
    ")\n",
    "memory.save_context(\n",
    "    inputs={\"human\": \"모든 절차를 완료했습니다. 계좌가 개설된 건가요?\"},\n",
    "    outputs={\n",
    "        \"ai\": \"네, 계좌 개설이 완료되었습니다. 고객님의 계좌 번호와 관련 정보는 등록하신 이메일로 발송되었습니다. 추가적인 도움이 필요하시면 언제든지 문의해 주세요. 감사합니다!\"\n",
    "    },\n",
    ")"
   ],
   "id": "d8f1096496357995",
   "outputs": [],
   "execution_count": 11
  },
  {
   "metadata": {
    "ExecuteTime": {
     "end_time": "2024-09-26T14:42:16.812880Z",
     "start_time": "2024-09-26T14:42:16.810403Z"
    }
   },
   "cell_type": "code",
   "source": "print(memory.load_memory_variables({})[\"history\"])",
   "id": "6fdc6a15994c3b35",
   "outputs": [
    {
     "name": "stdout",
     "output_type": "stream",
     "text": [
      "Human: 안녕하세요, 비대면으로 은행 계좌를 개설하고 싶습니다. 어떻게 시작해야 하나요?\n",
      "AI: 안녕하세요! 계좌 개설을 원하신다니 기쁩니다. 먼저, 본인 인증을 위해 신분증을 준비해 주시겠어요?\n",
      "Human: 네, 신분증을 준비했습니다. 이제 무엇을 해야 하나요?\n",
      "AI: 감사합니다. 신분증 앞뒤를 명확하게 촬영하여 업로드해 주세요. 이후 본인 인증 절차를 진행하겠습니다.\n",
      "Human: 사진을 업로드했습니다. 본인 인증은 어떻게 진행되나요?\n",
      "AI: 업로드해 주신 사진을 확인했습니다. 이제 휴대폰을 통한 본인 인증을 진행해 주세요. 문자로 발송된 인증번호를 입력해 주시면 됩니다.\n",
      "Human: 인증번호를 입력했습니다. 계좌 개설은 이제 어떻게 하나요?\n",
      "AI: 본인 인증이 완료되었습니다. 이제 원하시는 계좌 종류를 선택하고 필요한 정보를 입력해 주세요. 예금 종류, 통화 종류 등을 선택할 수 있습니다.\n",
      "Human: 정보를 모두 입력했습니다. 다음 단계는 무엇인가요?\n",
      "AI: 입력해 주신 정보를 확인했습니다. 계좌 개설 절차가 거의 끝났습니다. 마지막으로 이용 약관에 동의해 주시고, 계좌 개설을 최종 확인해 주세요.\n",
      "Human: 모든 절차를 완료했습니다. 계좌가 개설된 건가요?\n",
      "AI: 네, 계좌 개설이 완료되었습니다. 고객님의 계좌 번호와 관련 정보는 등록하신 이메일로 발송되었습니다. 추가적인 도움이 필요하시면 언제든지 문의해 주세요. 감사합니다!\n"
     ]
    }
   ],
   "execution_count": 12
  },
  {
   "metadata": {
    "ExecuteTime": {
     "end_time": "2024-09-26T14:43:21.865453Z",
     "start_time": "2024-09-26T14:43:21.852820Z"
    }
   },
   "cell_type": "code",
   "source": [
    "from dotenv import load_dotenv\n",
    "load_dotenv()"
   ],
   "id": "f10123d225fa3521",
   "outputs": [
    {
     "data": {
      "text/plain": [
       "True"
      ]
     },
     "execution_count": 13,
     "metadata": {},
     "output_type": "execute_result"
    }
   ],
   "execution_count": 13
  },
  {
   "metadata": {
    "ExecuteTime": {
     "end_time": "2024-09-26T14:55:00.621082Z",
     "start_time": "2024-09-26T14:54:59.594977Z"
    }
   },
   "cell_type": "code",
   "source": "!pip install pydantic==1.0",
   "id": "209175bafe8f2691",
   "outputs": [
    {
     "name": "stdout",
     "output_type": "stream",
     "text": [
      "Collecting pydantic==1.0\r\n",
      "  Downloading pydantic-1.0-py36.py37.py38-none-any.whl.metadata (49 kB)\r\n",
      "Downloading pydantic-1.0-py36.py37.py38-none-any.whl (73 kB)\r\n",
      "Installing collected packages: pydantic\r\n",
      "  Attempting uninstall: pydantic\r\n",
      "    Found existing installation: pydantic 2.8.2\r\n",
      "    Uninstalling pydantic-2.8.2:\r\n",
      "      Successfully uninstalled pydantic-2.8.2\r\n",
      "\u001B[31mERROR: pip's dependency resolver does not currently take into account all the packages that are installed. This behaviour is the source of the following dependency conflicts.\r\n",
      "openai 1.41.0 requires pydantic<3,>=1.9.0, but you have pydantic 1.0 which is incompatible.\r\n",
      "langchain-openai 0.1.22 requires langchain-core<0.3.0,>=0.2.33, but you have langchain-core 0.2.0 which is incompatible.\r\n",
      "fastapi 0.112.2 requires pydantic!=1.8,!=1.8.1,!=2.0.0,!=2.0.1,!=2.1.0,<3.0.0,>=1.7.4, but you have pydantic 1.0 which is incompatible.\r\n",
      "langchain 0.3.0 requires langchain-core<0.4.0,>=0.3.0, but you have langchain-core 0.2.0 which is incompatible.\r\n",
      "langchain 0.3.0 requires pydantic<3.0.0,>=2.7.4, but you have pydantic 1.0 which is incompatible.\r\n",
      "langsmith 0.1.128 requires pydantic<3.0.0,>=2.7.4; python_full_version >= \"3.12.4\", but you have pydantic 1.0 which is incompatible.\r\n",
      "chromadb 0.5.3 requires pydantic>=1.9, but you have pydantic 1.0 which is incompatible.\r\n",
      "langchain-google-genai 2.0.0 requires langchain-core<0.4,>=0.3.0, but you have langchain-core 0.2.0 which is incompatible.\r\n",
      "langchain-google-genai 2.0.0 requires pydantic<3,>=2, but you have pydantic 1.0 which is incompatible.\u001B[0m\u001B[31m\r\n",
      "\u001B[0mSuccessfully installed pydantic-1.0\r\n"
     ]
    }
   ],
   "execution_count": 18
  },
  {
   "metadata": {
    "ExecuteTime": {
     "end_time": "2024-09-26T14:55:03.537530Z",
     "start_time": "2024-09-26T14:55:03.304097Z"
    }
   },
   "cell_type": "code",
   "source": [
    "from langchain_openai import ChatOpenAI\n",
    "from langchain.chains import ConversationChain\n",
    "\n",
    "llm = ChatOpenAI(temperature=0, model_name=\"gpt-4o\")\n",
    "\n",
    "conversation = ConversationChain(\n",
    "    llm=llm,\n",
    "    memory=ConversationBufferMemory(),\n",
    ")\n"
   ],
   "id": "c8f81a83b6ce9623",
   "outputs": [
    {
     "ename": "PydanticUserError",
     "evalue": "The `__modify_schema__` method is not supported in Pydantic v2. Use `__get_pydantic_json_schema__` instead in class `SecretStr`.\n\nFor further information visit https://errors.pydantic.dev/2.8/u/custom-json-schema",
     "output_type": "error",
     "traceback": [
      "\u001B[0;31m---------------------------------------------------------------------------\u001B[0m",
      "\u001B[0;31mPydanticUserError\u001B[0m                         Traceback (most recent call last)",
      "Cell \u001B[0;32mIn[19], line 1\u001B[0m\n\u001B[0;32m----> 1\u001B[0m \u001B[38;5;28;01mfrom\u001B[39;00m \u001B[38;5;21;01mlangchain_openai\u001B[39;00m \u001B[38;5;28;01mimport\u001B[39;00m ChatOpenAI\n\u001B[1;32m      2\u001B[0m \u001B[38;5;28;01mfrom\u001B[39;00m \u001B[38;5;21;01mlangchain\u001B[39;00m\u001B[38;5;21;01m.\u001B[39;00m\u001B[38;5;21;01mchains\u001B[39;00m \u001B[38;5;28;01mimport\u001B[39;00m ConversationChain\n\u001B[1;32m      4\u001B[0m llm \u001B[38;5;241m=\u001B[39m ChatOpenAI(temperature\u001B[38;5;241m=\u001B[39m\u001B[38;5;241m0\u001B[39m, model_name\u001B[38;5;241m=\u001B[39m\u001B[38;5;124m\"\u001B[39m\u001B[38;5;124mgpt-4o\u001B[39m\u001B[38;5;124m\"\u001B[39m)\n",
      "File \u001B[0;32m~/projects/llm_study/venvs/lib/python3.12/site-packages/langchain_openai/__init__.py:1\u001B[0m\n\u001B[0;32m----> 1\u001B[0m \u001B[38;5;28;01mfrom\u001B[39;00m \u001B[38;5;21;01mlangchain_openai\u001B[39;00m\u001B[38;5;21;01m.\u001B[39;00m\u001B[38;5;21;01mchat_models\u001B[39;00m \u001B[38;5;28;01mimport\u001B[39;00m AzureChatOpenAI, ChatOpenAI\n\u001B[1;32m      2\u001B[0m \u001B[38;5;28;01mfrom\u001B[39;00m \u001B[38;5;21;01mlangchain_openai\u001B[39;00m\u001B[38;5;21;01m.\u001B[39;00m\u001B[38;5;21;01membeddings\u001B[39;00m \u001B[38;5;28;01mimport\u001B[39;00m AzureOpenAIEmbeddings, OpenAIEmbeddings\n\u001B[1;32m      3\u001B[0m \u001B[38;5;28;01mfrom\u001B[39;00m \u001B[38;5;21;01mlangchain_openai\u001B[39;00m\u001B[38;5;21;01m.\u001B[39;00m\u001B[38;5;21;01mllms\u001B[39;00m \u001B[38;5;28;01mimport\u001B[39;00m AzureOpenAI, OpenAI\n",
      "File \u001B[0;32m~/projects/llm_study/venvs/lib/python3.12/site-packages/langchain_openai/chat_models/__init__.py:1\u001B[0m\n\u001B[0;32m----> 1\u001B[0m \u001B[38;5;28;01mfrom\u001B[39;00m \u001B[38;5;21;01mlangchain_openai\u001B[39;00m\u001B[38;5;21;01m.\u001B[39;00m\u001B[38;5;21;01mchat_models\u001B[39;00m\u001B[38;5;21;01m.\u001B[39;00m\u001B[38;5;21;01mazure\u001B[39;00m \u001B[38;5;28;01mimport\u001B[39;00m AzureChatOpenAI\n\u001B[1;32m      2\u001B[0m \u001B[38;5;28;01mfrom\u001B[39;00m \u001B[38;5;21;01mlangchain_openai\u001B[39;00m\u001B[38;5;21;01m.\u001B[39;00m\u001B[38;5;21;01mchat_models\u001B[39;00m\u001B[38;5;21;01m.\u001B[39;00m\u001B[38;5;21;01mbase\u001B[39;00m \u001B[38;5;28;01mimport\u001B[39;00m ChatOpenAI\n\u001B[1;32m      4\u001B[0m __all__ \u001B[38;5;241m=\u001B[39m [\u001B[38;5;124m\"\u001B[39m\u001B[38;5;124mChatOpenAI\u001B[39m\u001B[38;5;124m\"\u001B[39m, \u001B[38;5;124m\"\u001B[39m\u001B[38;5;124mAzureChatOpenAI\u001B[39m\u001B[38;5;124m\"\u001B[39m]\n",
      "File \u001B[0;32m~/projects/llm_study/venvs/lib/python3.12/site-packages/langchain_openai/chat_models/azure.py:41\u001B[0m\n\u001B[1;32m     38\u001B[0m \u001B[38;5;28;01mfrom\u001B[39;00m \u001B[38;5;21;01mlangchain_core\u001B[39;00m\u001B[38;5;21;01m.\u001B[39;00m\u001B[38;5;21;01mutils\u001B[39;00m\u001B[38;5;21;01m.\u001B[39;00m\u001B[38;5;21;01mfunction_calling\u001B[39;00m \u001B[38;5;28;01mimport\u001B[39;00m convert_to_openai_tool\n\u001B[1;32m     39\u001B[0m \u001B[38;5;28;01mfrom\u001B[39;00m \u001B[38;5;21;01mlangchain_core\u001B[39;00m\u001B[38;5;21;01m.\u001B[39;00m\u001B[38;5;21;01mutils\u001B[39;00m\u001B[38;5;21;01m.\u001B[39;00m\u001B[38;5;21;01mpydantic\u001B[39;00m \u001B[38;5;28;01mimport\u001B[39;00m is_basemodel_subclass\n\u001B[0;32m---> 41\u001B[0m \u001B[38;5;28;01mfrom\u001B[39;00m \u001B[38;5;21;01mlangchain_openai\u001B[39;00m\u001B[38;5;21;01m.\u001B[39;00m\u001B[38;5;21;01mchat_models\u001B[39;00m\u001B[38;5;21;01m.\u001B[39;00m\u001B[38;5;21;01mbase\u001B[39;00m \u001B[38;5;28;01mimport\u001B[39;00m BaseChatOpenAI\n\u001B[1;32m     43\u001B[0m logger \u001B[38;5;241m=\u001B[39m logging\u001B[38;5;241m.\u001B[39mgetLogger(\u001B[38;5;18m__name__\u001B[39m)\n\u001B[1;32m     46\u001B[0m _BM \u001B[38;5;241m=\u001B[39m TypeVar(\u001B[38;5;124m\"\u001B[39m\u001B[38;5;124m_BM\u001B[39m\u001B[38;5;124m\"\u001B[39m, bound\u001B[38;5;241m=\u001B[39mBaseModel)\n",
      "File \u001B[0;32m~/projects/llm_study/venvs/lib/python3.12/site-packages/langchain_openai/chat_models/base.py:302\u001B[0m\n\u001B[1;32m    298\u001B[0m     parsed: Optional[_DictOrPydantic]\n\u001B[1;32m    299\u001B[0m     parsing_error: Optional[\u001B[38;5;167;01mBaseException\u001B[39;00m]\n\u001B[0;32m--> 302\u001B[0m \u001B[38;5;28;43;01mclass\u001B[39;49;00m\u001B[43m \u001B[49m\u001B[38;5;21;43;01mBaseChatOpenAI\u001B[39;49;00m\u001B[43m(\u001B[49m\u001B[43mBaseChatModel\u001B[49m\u001B[43m)\u001B[49m\u001B[43m:\u001B[49m\n\u001B[1;32m    303\u001B[0m \u001B[43m    \u001B[49m\u001B[43mclient\u001B[49m\u001B[43m:\u001B[49m\u001B[43m \u001B[49m\u001B[43mAny\u001B[49m\u001B[43m \u001B[49m\u001B[38;5;241;43m=\u001B[39;49m\u001B[43m \u001B[49m\u001B[43mField\u001B[49m\u001B[43m(\u001B[49m\u001B[43mdefault\u001B[49m\u001B[38;5;241;43m=\u001B[39;49m\u001B[38;5;28;43;01mNone\u001B[39;49;00m\u001B[43m,\u001B[49m\u001B[43m \u001B[49m\u001B[43mexclude\u001B[49m\u001B[38;5;241;43m=\u001B[39;49m\u001B[38;5;28;43;01mTrue\u001B[39;49;00m\u001B[43m)\u001B[49m\u001B[43m  \u001B[49m\u001B[38;5;66;43;03m#: :meta private:\u001B[39;49;00m\n\u001B[1;32m    304\u001B[0m \u001B[43m    \u001B[49m\u001B[43masync_client\u001B[49m\u001B[43m:\u001B[49m\u001B[43m \u001B[49m\u001B[43mAny\u001B[49m\u001B[43m \u001B[49m\u001B[38;5;241;43m=\u001B[39;49m\u001B[43m \u001B[49m\u001B[43mField\u001B[49m\u001B[43m(\u001B[49m\u001B[43mdefault\u001B[49m\u001B[38;5;241;43m=\u001B[39;49m\u001B[38;5;28;43;01mNone\u001B[39;49;00m\u001B[43m,\u001B[49m\u001B[43m \u001B[49m\u001B[43mexclude\u001B[49m\u001B[38;5;241;43m=\u001B[39;49m\u001B[38;5;28;43;01mTrue\u001B[39;49;00m\u001B[43m)\u001B[49m\u001B[43m  \u001B[49m\u001B[38;5;66;43;03m#: :meta private:\u001B[39;49;00m\n",
      "File \u001B[0;32m~/projects/llm_study/venvs/lib/python3.12/site-packages/pydantic/_internal/_model_construction.py:205\u001B[0m, in \u001B[0;36mModelMetaclass.__new__\u001B[0;34m(mcs, cls_name, bases, namespace, __pydantic_generic_metadata__, __pydantic_reset_parent_namespace__, _create_model_module, **kwargs)\u001B[0m\n\u001B[1;32m    202\u001B[0m \u001B[38;5;28;01mif\u001B[39;00m config_wrapper\u001B[38;5;241m.\u001B[39mfrozen \u001B[38;5;129;01mand\u001B[39;00m \u001B[38;5;124m'\u001B[39m\u001B[38;5;124m__hash__\u001B[39m\u001B[38;5;124m'\u001B[39m \u001B[38;5;129;01mnot\u001B[39;00m \u001B[38;5;129;01min\u001B[39;00m namespace:\n\u001B[1;32m    203\u001B[0m     set_default_hash_func(\u001B[38;5;28mcls\u001B[39m, bases)\n\u001B[0;32m--> 205\u001B[0m \u001B[43mcomplete_model_class\u001B[49m\u001B[43m(\u001B[49m\n\u001B[1;32m    206\u001B[0m \u001B[43m    \u001B[49m\u001B[38;5;28;43mcls\u001B[39;49m\u001B[43m,\u001B[49m\n\u001B[1;32m    207\u001B[0m \u001B[43m    \u001B[49m\u001B[43mcls_name\u001B[49m\u001B[43m,\u001B[49m\n\u001B[1;32m    208\u001B[0m \u001B[43m    \u001B[49m\u001B[43mconfig_wrapper\u001B[49m\u001B[43m,\u001B[49m\n\u001B[1;32m    209\u001B[0m \u001B[43m    \u001B[49m\u001B[43mraise_errors\u001B[49m\u001B[38;5;241;43m=\u001B[39;49m\u001B[38;5;28;43;01mFalse\u001B[39;49;00m\u001B[43m,\u001B[49m\n\u001B[1;32m    210\u001B[0m \u001B[43m    \u001B[49m\u001B[43mtypes_namespace\u001B[49m\u001B[38;5;241;43m=\u001B[39;49m\u001B[43mtypes_namespace\u001B[49m\u001B[43m,\u001B[49m\n\u001B[1;32m    211\u001B[0m \u001B[43m    \u001B[49m\u001B[43mcreate_model_module\u001B[49m\u001B[38;5;241;43m=\u001B[39;49m\u001B[43m_create_model_module\u001B[49m\u001B[43m,\u001B[49m\n\u001B[1;32m    212\u001B[0m \u001B[43m\u001B[49m\u001B[43m)\u001B[49m\n\u001B[1;32m    214\u001B[0m \u001B[38;5;66;03m# If this is placed before the complete_model_class call above,\u001B[39;00m\n\u001B[1;32m    215\u001B[0m \u001B[38;5;66;03m# the generic computed fields return type is set to PydanticUndefined\u001B[39;00m\n\u001B[1;32m    216\u001B[0m \u001B[38;5;28mcls\u001B[39m\u001B[38;5;241m.\u001B[39mmodel_computed_fields \u001B[38;5;241m=\u001B[39m {k: v\u001B[38;5;241m.\u001B[39minfo \u001B[38;5;28;01mfor\u001B[39;00m k, v \u001B[38;5;129;01min\u001B[39;00m \u001B[38;5;28mcls\u001B[39m\u001B[38;5;241m.\u001B[39m__pydantic_decorators__\u001B[38;5;241m.\u001B[39mcomputed_fields\u001B[38;5;241m.\u001B[39mitems()}\n",
      "File \u001B[0;32m~/projects/llm_study/venvs/lib/python3.12/site-packages/pydantic/_internal/_model_construction.py:534\u001B[0m, in \u001B[0;36mcomplete_model_class\u001B[0;34m(cls, cls_name, config_wrapper, raise_errors, types_namespace, create_model_module)\u001B[0m\n\u001B[1;32m    531\u001B[0m     \u001B[38;5;28;01mreturn\u001B[39;00m \u001B[38;5;28;01mFalse\u001B[39;00m\n\u001B[1;32m    533\u001B[0m \u001B[38;5;28;01mtry\u001B[39;00m:\n\u001B[0;32m--> 534\u001B[0m     schema \u001B[38;5;241m=\u001B[39m \u001B[38;5;28;43mcls\u001B[39;49m\u001B[38;5;241;43m.\u001B[39;49m\u001B[43m__get_pydantic_core_schema__\u001B[49m\u001B[43m(\u001B[49m\u001B[38;5;28;43mcls\u001B[39;49m\u001B[43m,\u001B[49m\u001B[43m \u001B[49m\u001B[43mhandler\u001B[49m\u001B[43m)\u001B[49m\n\u001B[1;32m    535\u001B[0m \u001B[38;5;28;01mexcept\u001B[39;00m PydanticUndefinedAnnotation \u001B[38;5;28;01mas\u001B[39;00m e:\n\u001B[1;32m    536\u001B[0m     \u001B[38;5;28;01mif\u001B[39;00m raise_errors:\n",
      "File \u001B[0;32m~/projects/llm_study/venvs/lib/python3.12/site-packages/pydantic/main.py:643\u001B[0m, in \u001B[0;36mBaseModel.__get_pydantic_core_schema__\u001B[0;34m(cls, source, handler)\u001B[0m\n\u001B[1;32m    640\u001B[0m     \u001B[38;5;28;01mif\u001B[39;00m \u001B[38;5;129;01mnot\u001B[39;00m \u001B[38;5;28mcls\u001B[39m\u001B[38;5;241m.\u001B[39m__pydantic_generic_metadata__[\u001B[38;5;124m'\u001B[39m\u001B[38;5;124morigin\u001B[39m\u001B[38;5;124m'\u001B[39m]:\n\u001B[1;32m    641\u001B[0m         \u001B[38;5;28;01mreturn\u001B[39;00m \u001B[38;5;28mcls\u001B[39m\u001B[38;5;241m.\u001B[39m__pydantic_core_schema__\n\u001B[0;32m--> 643\u001B[0m \u001B[38;5;28;01mreturn\u001B[39;00m \u001B[43mhandler\u001B[49m\u001B[43m(\u001B[49m\u001B[43msource\u001B[49m\u001B[43m)\u001B[49m\n",
      "File \u001B[0;32m~/projects/llm_study/venvs/lib/python3.12/site-packages/pydantic/_internal/_schema_generation_shared.py:83\u001B[0m, in \u001B[0;36mCallbackGetCoreSchemaHandler.__call__\u001B[0;34m(self, source_type)\u001B[0m\n\u001B[1;32m     82\u001B[0m \u001B[38;5;28;01mdef\u001B[39;00m \u001B[38;5;21m__call__\u001B[39m(\u001B[38;5;28mself\u001B[39m, source_type: Any, \u001B[38;5;241m/\u001B[39m) \u001B[38;5;241m-\u001B[39m\u001B[38;5;241m>\u001B[39m core_schema\u001B[38;5;241m.\u001B[39mCoreSchema:\n\u001B[0;32m---> 83\u001B[0m     schema \u001B[38;5;241m=\u001B[39m \u001B[38;5;28;43mself\u001B[39;49m\u001B[38;5;241;43m.\u001B[39;49m\u001B[43m_handler\u001B[49m\u001B[43m(\u001B[49m\u001B[43msource_type\u001B[49m\u001B[43m)\u001B[49m\n\u001B[1;32m     84\u001B[0m     ref \u001B[38;5;241m=\u001B[39m schema\u001B[38;5;241m.\u001B[39mget(\u001B[38;5;124m'\u001B[39m\u001B[38;5;124mref\u001B[39m\u001B[38;5;124m'\u001B[39m)\n\u001B[1;32m     85\u001B[0m     \u001B[38;5;28;01mif\u001B[39;00m \u001B[38;5;28mself\u001B[39m\u001B[38;5;241m.\u001B[39m_ref_mode \u001B[38;5;241m==\u001B[39m \u001B[38;5;124m'\u001B[39m\u001B[38;5;124mto-def\u001B[39m\u001B[38;5;124m'\u001B[39m:\n",
      "File \u001B[0;32m~/projects/llm_study/venvs/lib/python3.12/site-packages/pydantic/_internal/_generate_schema.py:512\u001B[0m, in \u001B[0;36mGenerateSchema.generate_schema\u001B[0;34m(self, obj, from_dunder_get_core_schema)\u001B[0m\n\u001B[1;32m    509\u001B[0m         schema \u001B[38;5;241m=\u001B[39m from_property\n\u001B[1;32m    511\u001B[0m \u001B[38;5;28;01mif\u001B[39;00m schema \u001B[38;5;129;01mis\u001B[39;00m \u001B[38;5;28;01mNone\u001B[39;00m:\n\u001B[0;32m--> 512\u001B[0m     schema \u001B[38;5;241m=\u001B[39m \u001B[38;5;28;43mself\u001B[39;49m\u001B[38;5;241;43m.\u001B[39;49m\u001B[43m_generate_schema_inner\u001B[49m\u001B[43m(\u001B[49m\u001B[43mobj\u001B[49m\u001B[43m)\u001B[49m\n\u001B[1;32m    514\u001B[0m metadata_js_function \u001B[38;5;241m=\u001B[39m _extract_get_pydantic_json_schema(obj, schema)\n\u001B[1;32m    515\u001B[0m \u001B[38;5;28;01mif\u001B[39;00m metadata_js_function \u001B[38;5;129;01mis\u001B[39;00m \u001B[38;5;129;01mnot\u001B[39;00m \u001B[38;5;28;01mNone\u001B[39;00m:\n",
      "File \u001B[0;32m~/projects/llm_study/venvs/lib/python3.12/site-packages/pydantic/_internal/_generate_schema.py:784\u001B[0m, in \u001B[0;36mGenerateSchema._generate_schema_inner\u001B[0;34m(self, obj)\u001B[0m\n\u001B[1;32m    782\u001B[0m \u001B[38;5;28;01mif\u001B[39;00m lenient_issubclass(obj, BaseModel):\n\u001B[1;32m    783\u001B[0m     \u001B[38;5;28;01mwith\u001B[39;00m \u001B[38;5;28mself\u001B[39m\u001B[38;5;241m.\u001B[39mmodel_type_stack\u001B[38;5;241m.\u001B[39mpush(obj):\n\u001B[0;32m--> 784\u001B[0m         \u001B[38;5;28;01mreturn\u001B[39;00m \u001B[38;5;28;43mself\u001B[39;49m\u001B[38;5;241;43m.\u001B[39;49m\u001B[43m_model_schema\u001B[49m\u001B[43m(\u001B[49m\u001B[43mobj\u001B[49m\u001B[43m)\u001B[49m\n\u001B[1;32m    786\u001B[0m \u001B[38;5;28;01mif\u001B[39;00m \u001B[38;5;28misinstance\u001B[39m(obj, PydanticRecursiveRef):\n\u001B[1;32m    787\u001B[0m     \u001B[38;5;28;01mreturn\u001B[39;00m core_schema\u001B[38;5;241m.\u001B[39mdefinition_reference_schema(schema_ref\u001B[38;5;241m=\u001B[39mobj\u001B[38;5;241m.\u001B[39mtype_ref)\n",
      "File \u001B[0;32m~/projects/llm_study/venvs/lib/python3.12/site-packages/pydantic/_internal/_generate_schema.py:591\u001B[0m, in \u001B[0;36mGenerateSchema._model_schema\u001B[0;34m(self, cls)\u001B[0m\n\u001B[1;32m    579\u001B[0m     model_schema \u001B[38;5;241m=\u001B[39m core_schema\u001B[38;5;241m.\u001B[39mmodel_schema(\n\u001B[1;32m    580\u001B[0m         \u001B[38;5;28mcls\u001B[39m,\n\u001B[1;32m    581\u001B[0m         inner_schema,\n\u001B[0;32m   (...)\u001B[0m\n\u001B[1;32m    587\u001B[0m         metadata\u001B[38;5;241m=\u001B[39mmetadata,\n\u001B[1;32m    588\u001B[0m     )\n\u001B[1;32m    589\u001B[0m \u001B[38;5;28;01melse\u001B[39;00m:\n\u001B[1;32m    590\u001B[0m     fields_schema: core_schema\u001B[38;5;241m.\u001B[39mCoreSchema \u001B[38;5;241m=\u001B[39m core_schema\u001B[38;5;241m.\u001B[39mmodel_fields_schema(\n\u001B[0;32m--> 591\u001B[0m         {k: \u001B[38;5;28;43mself\u001B[39;49m\u001B[38;5;241;43m.\u001B[39;49m\u001B[43m_generate_md_field_schema\u001B[49m\u001B[43m(\u001B[49m\u001B[43mk\u001B[49m\u001B[43m,\u001B[49m\u001B[43m \u001B[49m\u001B[43mv\u001B[49m\u001B[43m,\u001B[49m\u001B[43m \u001B[49m\u001B[43mdecorators\u001B[49m\u001B[43m)\u001B[49m \u001B[38;5;28;01mfor\u001B[39;00m k, v \u001B[38;5;129;01min\u001B[39;00m fields\u001B[38;5;241m.\u001B[39mitems()},\n\u001B[1;32m    592\u001B[0m         computed_fields\u001B[38;5;241m=\u001B[39m[\n\u001B[1;32m    593\u001B[0m             \u001B[38;5;28mself\u001B[39m\u001B[38;5;241m.\u001B[39m_computed_field_schema(d, decorators\u001B[38;5;241m.\u001B[39mfield_serializers)\n\u001B[1;32m    594\u001B[0m             \u001B[38;5;28;01mfor\u001B[39;00m d \u001B[38;5;129;01min\u001B[39;00m computed_fields\u001B[38;5;241m.\u001B[39mvalues()\n\u001B[1;32m    595\u001B[0m         ],\n\u001B[1;32m    596\u001B[0m         extras_schema\u001B[38;5;241m=\u001B[39mextras_schema,\n\u001B[1;32m    597\u001B[0m         model_name\u001B[38;5;241m=\u001B[39m\u001B[38;5;28mcls\u001B[39m\u001B[38;5;241m.\u001B[39m\u001B[38;5;18m__name__\u001B[39m,\n\u001B[1;32m    598\u001B[0m     )\n\u001B[1;32m    599\u001B[0m     inner_schema \u001B[38;5;241m=\u001B[39m apply_validators(fields_schema, decorators\u001B[38;5;241m.\u001B[39mroot_validators\u001B[38;5;241m.\u001B[39mvalues(), \u001B[38;5;28;01mNone\u001B[39;00m)\n\u001B[1;32m    600\u001B[0m     new_inner_schema \u001B[38;5;241m=\u001B[39m define_expected_missing_refs(inner_schema, recursively_defined_type_refs())\n",
      "File \u001B[0;32m~/projects/llm_study/venvs/lib/python3.12/site-packages/pydantic/_internal/_generate_schema.py:947\u001B[0m, in \u001B[0;36mGenerateSchema._generate_md_field_schema\u001B[0;34m(self, name, field_info, decorators)\u001B[0m\n\u001B[1;32m    940\u001B[0m \u001B[38;5;28;01mdef\u001B[39;00m \u001B[38;5;21m_generate_md_field_schema\u001B[39m(\n\u001B[1;32m    941\u001B[0m     \u001B[38;5;28mself\u001B[39m,\n\u001B[1;32m    942\u001B[0m     name: \u001B[38;5;28mstr\u001B[39m,\n\u001B[1;32m    943\u001B[0m     field_info: FieldInfo,\n\u001B[1;32m    944\u001B[0m     decorators: DecoratorInfos,\n\u001B[1;32m    945\u001B[0m ) \u001B[38;5;241m-\u001B[39m\u001B[38;5;241m>\u001B[39m core_schema\u001B[38;5;241m.\u001B[39mModelField:\n\u001B[1;32m    946\u001B[0m \u001B[38;5;250m    \u001B[39m\u001B[38;5;124;03m\"\"\"Prepare a ModelField to represent a model field.\"\"\"\u001B[39;00m\n\u001B[0;32m--> 947\u001B[0m     common_field \u001B[38;5;241m=\u001B[39m \u001B[38;5;28;43mself\u001B[39;49m\u001B[38;5;241;43m.\u001B[39;49m\u001B[43m_common_field_schema\u001B[49m\u001B[43m(\u001B[49m\u001B[43mname\u001B[49m\u001B[43m,\u001B[49m\u001B[43m \u001B[49m\u001B[43mfield_info\u001B[49m\u001B[43m,\u001B[49m\u001B[43m \u001B[49m\u001B[43mdecorators\u001B[49m\u001B[43m)\u001B[49m\n\u001B[1;32m    948\u001B[0m     \u001B[38;5;28;01mreturn\u001B[39;00m core_schema\u001B[38;5;241m.\u001B[39mmodel_field(\n\u001B[1;32m    949\u001B[0m         common_field[\u001B[38;5;124m'\u001B[39m\u001B[38;5;124mschema\u001B[39m\u001B[38;5;124m'\u001B[39m],\n\u001B[1;32m    950\u001B[0m         serialization_exclude\u001B[38;5;241m=\u001B[39mcommon_field[\u001B[38;5;124m'\u001B[39m\u001B[38;5;124mserialization_exclude\u001B[39m\u001B[38;5;124m'\u001B[39m],\n\u001B[0;32m   (...)\u001B[0m\n\u001B[1;32m    954\u001B[0m         metadata\u001B[38;5;241m=\u001B[39mcommon_field[\u001B[38;5;124m'\u001B[39m\u001B[38;5;124mmetadata\u001B[39m\u001B[38;5;124m'\u001B[39m],\n\u001B[1;32m    955\u001B[0m     )\n",
      "File \u001B[0;32m~/projects/llm_study/venvs/lib/python3.12/site-packages/pydantic/_internal/_generate_schema.py:1134\u001B[0m, in \u001B[0;36mGenerateSchema._common_field_schema\u001B[0;34m(self, name, field_info, decorators)\u001B[0m\n\u001B[1;32m   1132\u001B[0m         schema \u001B[38;5;241m=\u001B[39m \u001B[38;5;28mself\u001B[39m\u001B[38;5;241m.\u001B[39m_apply_annotations(source_type, annotations, transform_inner_schema\u001B[38;5;241m=\u001B[39mset_discriminator)\n\u001B[1;32m   1133\u001B[0m     \u001B[38;5;28;01melse\u001B[39;00m:\n\u001B[0;32m-> 1134\u001B[0m         schema \u001B[38;5;241m=\u001B[39m \u001B[38;5;28;43mself\u001B[39;49m\u001B[38;5;241;43m.\u001B[39;49m\u001B[43m_apply_annotations\u001B[49m\u001B[43m(\u001B[49m\n\u001B[1;32m   1135\u001B[0m \u001B[43m            \u001B[49m\u001B[43msource_type\u001B[49m\u001B[43m,\u001B[49m\n\u001B[1;32m   1136\u001B[0m \u001B[43m            \u001B[49m\u001B[43mannotations\u001B[49m\u001B[43m,\u001B[49m\n\u001B[1;32m   1137\u001B[0m \u001B[43m        \u001B[49m\u001B[43m)\u001B[49m\n\u001B[1;32m   1139\u001B[0m \u001B[38;5;66;03m# This V1 compatibility shim should eventually be removed\u001B[39;00m\n\u001B[1;32m   1140\u001B[0m \u001B[38;5;66;03m# push down any `each_item=True` validators\u001B[39;00m\n\u001B[1;32m   1141\u001B[0m \u001B[38;5;66;03m# note that this won't work for any Annotated types that get wrapped by a function validator\u001B[39;00m\n\u001B[1;32m   1142\u001B[0m \u001B[38;5;66;03m# but that's okay because that didn't exist in V1\u001B[39;00m\n\u001B[1;32m   1143\u001B[0m this_field_validators \u001B[38;5;241m=\u001B[39m filter_field_decorator_info_by_field(decorators\u001B[38;5;241m.\u001B[39mvalidators\u001B[38;5;241m.\u001B[39mvalues(), name)\n",
      "File \u001B[0;32m~/projects/llm_study/venvs/lib/python3.12/site-packages/pydantic/_internal/_generate_schema.py:1890\u001B[0m, in \u001B[0;36mGenerateSchema._apply_annotations\u001B[0;34m(self, source_type, annotations, transform_inner_schema)\u001B[0m\n\u001B[1;32m   1885\u001B[0m         \u001B[38;5;28;01mcontinue\u001B[39;00m\n\u001B[1;32m   1886\u001B[0m     get_inner_schema \u001B[38;5;241m=\u001B[39m \u001B[38;5;28mself\u001B[39m\u001B[38;5;241m.\u001B[39m_get_wrapped_inner_schema(\n\u001B[1;32m   1887\u001B[0m         get_inner_schema, annotation, pydantic_js_annotation_functions\n\u001B[1;32m   1888\u001B[0m     )\n\u001B[0;32m-> 1890\u001B[0m schema \u001B[38;5;241m=\u001B[39m \u001B[43mget_inner_schema\u001B[49m\u001B[43m(\u001B[49m\u001B[43msource_type\u001B[49m\u001B[43m)\u001B[49m\n\u001B[1;32m   1891\u001B[0m \u001B[38;5;28;01mif\u001B[39;00m pydantic_js_annotation_functions:\n\u001B[1;32m   1892\u001B[0m     metadata \u001B[38;5;241m=\u001B[39m CoreMetadataHandler(schema)\u001B[38;5;241m.\u001B[39mmetadata\n",
      "File \u001B[0;32m~/projects/llm_study/venvs/lib/python3.12/site-packages/pydantic/_internal/_schema_generation_shared.py:83\u001B[0m, in \u001B[0;36mCallbackGetCoreSchemaHandler.__call__\u001B[0;34m(self, source_type)\u001B[0m\n\u001B[1;32m     82\u001B[0m \u001B[38;5;28;01mdef\u001B[39;00m \u001B[38;5;21m__call__\u001B[39m(\u001B[38;5;28mself\u001B[39m, source_type: Any, \u001B[38;5;241m/\u001B[39m) \u001B[38;5;241m-\u001B[39m\u001B[38;5;241m>\u001B[39m core_schema\u001B[38;5;241m.\u001B[39mCoreSchema:\n\u001B[0;32m---> 83\u001B[0m     schema \u001B[38;5;241m=\u001B[39m \u001B[38;5;28;43mself\u001B[39;49m\u001B[38;5;241;43m.\u001B[39;49m\u001B[43m_handler\u001B[49m\u001B[43m(\u001B[49m\u001B[43msource_type\u001B[49m\u001B[43m)\u001B[49m\n\u001B[1;32m     84\u001B[0m     ref \u001B[38;5;241m=\u001B[39m schema\u001B[38;5;241m.\u001B[39mget(\u001B[38;5;124m'\u001B[39m\u001B[38;5;124mref\u001B[39m\u001B[38;5;124m'\u001B[39m)\n\u001B[1;32m     85\u001B[0m     \u001B[38;5;28;01mif\u001B[39;00m \u001B[38;5;28mself\u001B[39m\u001B[38;5;241m.\u001B[39m_ref_mode \u001B[38;5;241m==\u001B[39m \u001B[38;5;124m'\u001B[39m\u001B[38;5;124mto-def\u001B[39m\u001B[38;5;124m'\u001B[39m:\n",
      "File \u001B[0;32m~/projects/llm_study/venvs/lib/python3.12/site-packages/pydantic/_internal/_generate_schema.py:1871\u001B[0m, in \u001B[0;36mGenerateSchema._apply_annotations.<locals>.inner_handler\u001B[0;34m(obj)\u001B[0m\n\u001B[1;32m   1869\u001B[0m from_property \u001B[38;5;241m=\u001B[39m \u001B[38;5;28mself\u001B[39m\u001B[38;5;241m.\u001B[39m_generate_schema_from_property(obj, source_type)\n\u001B[1;32m   1870\u001B[0m \u001B[38;5;28;01mif\u001B[39;00m from_property \u001B[38;5;129;01mis\u001B[39;00m \u001B[38;5;28;01mNone\u001B[39;00m:\n\u001B[0;32m-> 1871\u001B[0m     schema \u001B[38;5;241m=\u001B[39m \u001B[38;5;28;43mself\u001B[39;49m\u001B[38;5;241;43m.\u001B[39;49m\u001B[43m_generate_schema_inner\u001B[49m\u001B[43m(\u001B[49m\u001B[43mobj\u001B[49m\u001B[43m)\u001B[49m\n\u001B[1;32m   1872\u001B[0m \u001B[38;5;28;01melse\u001B[39;00m:\n\u001B[1;32m   1873\u001B[0m     schema \u001B[38;5;241m=\u001B[39m from_property\n",
      "File \u001B[0;32m~/projects/llm_study/venvs/lib/python3.12/site-packages/pydantic/_internal/_generate_schema.py:789\u001B[0m, in \u001B[0;36mGenerateSchema._generate_schema_inner\u001B[0;34m(self, obj)\u001B[0m\n\u001B[1;32m    786\u001B[0m \u001B[38;5;28;01mif\u001B[39;00m \u001B[38;5;28misinstance\u001B[39m(obj, PydanticRecursiveRef):\n\u001B[1;32m    787\u001B[0m     \u001B[38;5;28;01mreturn\u001B[39;00m core_schema\u001B[38;5;241m.\u001B[39mdefinition_reference_schema(schema_ref\u001B[38;5;241m=\u001B[39mobj\u001B[38;5;241m.\u001B[39mtype_ref)\n\u001B[0;32m--> 789\u001B[0m \u001B[38;5;28;01mreturn\u001B[39;00m \u001B[38;5;28;43mself\u001B[39;49m\u001B[38;5;241;43m.\u001B[39;49m\u001B[43mmatch_type\u001B[49m\u001B[43m(\u001B[49m\u001B[43mobj\u001B[49m\u001B[43m)\u001B[49m\n",
      "File \u001B[0;32m~/projects/llm_study/venvs/lib/python3.12/site-packages/pydantic/_internal/_generate_schema.py:871\u001B[0m, in \u001B[0;36mGenerateSchema.match_type\u001B[0;34m(self, obj)\u001B[0m\n\u001B[1;32m    869\u001B[0m origin \u001B[38;5;241m=\u001B[39m get_origin(obj)\n\u001B[1;32m    870\u001B[0m \u001B[38;5;28;01mif\u001B[39;00m origin \u001B[38;5;129;01mis\u001B[39;00m \u001B[38;5;129;01mnot\u001B[39;00m \u001B[38;5;28;01mNone\u001B[39;00m:\n\u001B[0;32m--> 871\u001B[0m     \u001B[38;5;28;01mreturn\u001B[39;00m \u001B[38;5;28;43mself\u001B[39;49m\u001B[38;5;241;43m.\u001B[39;49m\u001B[43m_match_generic_type\u001B[49m\u001B[43m(\u001B[49m\u001B[43mobj\u001B[49m\u001B[43m,\u001B[49m\u001B[43m \u001B[49m\u001B[43morigin\u001B[49m\u001B[43m)\u001B[49m\n\u001B[1;32m    873\u001B[0m \u001B[38;5;28;01mif\u001B[39;00m \u001B[38;5;28mself\u001B[39m\u001B[38;5;241m.\u001B[39m_arbitrary_types:\n\u001B[1;32m    874\u001B[0m     \u001B[38;5;28;01mreturn\u001B[39;00m \u001B[38;5;28mself\u001B[39m\u001B[38;5;241m.\u001B[39m_arbitrary_type_schema(obj)\n",
      "File \u001B[0;32m~/projects/llm_study/venvs/lib/python3.12/site-packages/pydantic/_internal/_generate_schema.py:895\u001B[0m, in \u001B[0;36mGenerateSchema._match_generic_type\u001B[0;34m(self, obj, origin)\u001B[0m\n\u001B[1;32m    892\u001B[0m     \u001B[38;5;28;01mreturn\u001B[39;00m from_property\n\u001B[1;32m    894\u001B[0m \u001B[38;5;28;01mif\u001B[39;00m _typing_extra\u001B[38;5;241m.\u001B[39morigin_is_union(origin):\n\u001B[0;32m--> 895\u001B[0m     \u001B[38;5;28;01mreturn\u001B[39;00m \u001B[38;5;28;43mself\u001B[39;49m\u001B[38;5;241;43m.\u001B[39;49m\u001B[43m_union_schema\u001B[49m\u001B[43m(\u001B[49m\u001B[43mobj\u001B[49m\u001B[43m)\u001B[49m\n\u001B[1;32m    896\u001B[0m \u001B[38;5;28;01melif\u001B[39;00m origin \u001B[38;5;129;01min\u001B[39;00m TUPLE_TYPES:\n\u001B[1;32m    897\u001B[0m     \u001B[38;5;28;01mreturn\u001B[39;00m \u001B[38;5;28mself\u001B[39m\u001B[38;5;241m.\u001B[39m_tuple_schema(obj)\n",
      "File \u001B[0;32m~/projects/llm_study/venvs/lib/python3.12/site-packages/pydantic/_internal/_generate_schema.py:1207\u001B[0m, in \u001B[0;36mGenerateSchema._union_schema\u001B[0;34m(self, union_type)\u001B[0m\n\u001B[1;32m   1205\u001B[0m         nullable \u001B[38;5;241m=\u001B[39m \u001B[38;5;28;01mTrue\u001B[39;00m\n\u001B[1;32m   1206\u001B[0m     \u001B[38;5;28;01melse\u001B[39;00m:\n\u001B[0;32m-> 1207\u001B[0m         choices\u001B[38;5;241m.\u001B[39mappend(\u001B[38;5;28;43mself\u001B[39;49m\u001B[38;5;241;43m.\u001B[39;49m\u001B[43mgenerate_schema\u001B[49m\u001B[43m(\u001B[49m\u001B[43marg\u001B[49m\u001B[43m)\u001B[49m)\n\u001B[1;32m   1209\u001B[0m \u001B[38;5;28;01mif\u001B[39;00m \u001B[38;5;28mlen\u001B[39m(choices) \u001B[38;5;241m==\u001B[39m \u001B[38;5;241m1\u001B[39m:\n\u001B[1;32m   1210\u001B[0m     s \u001B[38;5;241m=\u001B[39m choices[\u001B[38;5;241m0\u001B[39m]\n",
      "File \u001B[0;32m~/projects/llm_study/venvs/lib/python3.12/site-packages/pydantic/_internal/_generate_schema.py:514\u001B[0m, in \u001B[0;36mGenerateSchema.generate_schema\u001B[0;34m(self, obj, from_dunder_get_core_schema)\u001B[0m\n\u001B[1;32m    511\u001B[0m \u001B[38;5;28;01mif\u001B[39;00m schema \u001B[38;5;129;01mis\u001B[39;00m \u001B[38;5;28;01mNone\u001B[39;00m:\n\u001B[1;32m    512\u001B[0m     schema \u001B[38;5;241m=\u001B[39m \u001B[38;5;28mself\u001B[39m\u001B[38;5;241m.\u001B[39m_generate_schema_inner(obj)\n\u001B[0;32m--> 514\u001B[0m metadata_js_function \u001B[38;5;241m=\u001B[39m \u001B[43m_extract_get_pydantic_json_schema\u001B[49m\u001B[43m(\u001B[49m\u001B[43mobj\u001B[49m\u001B[43m,\u001B[49m\u001B[43m \u001B[49m\u001B[43mschema\u001B[49m\u001B[43m)\u001B[49m\n\u001B[1;32m    515\u001B[0m \u001B[38;5;28;01mif\u001B[39;00m metadata_js_function \u001B[38;5;129;01mis\u001B[39;00m \u001B[38;5;129;01mnot\u001B[39;00m \u001B[38;5;28;01mNone\u001B[39;00m:\n\u001B[1;32m    516\u001B[0m     metadata_schema \u001B[38;5;241m=\u001B[39m resolve_original_schema(schema, \u001B[38;5;28mself\u001B[39m\u001B[38;5;241m.\u001B[39mdefs\u001B[38;5;241m.\u001B[39mdefinitions)\n",
      "File \u001B[0;32m~/projects/llm_study/venvs/lib/python3.12/site-packages/pydantic/_internal/_generate_schema.py:2227\u001B[0m, in \u001B[0;36m_extract_get_pydantic_json_schema\u001B[0;34m(tp, schema)\u001B[0m\n\u001B[1;32m   2225\u001B[0m     \u001B[38;5;28;01mif\u001B[39;00m \u001B[38;5;129;01mnot\u001B[39;00m has_custom_v2_modify_js_func:\n\u001B[1;32m   2226\u001B[0m         cls_name \u001B[38;5;241m=\u001B[39m \u001B[38;5;28mgetattr\u001B[39m(tp, \u001B[38;5;124m'\u001B[39m\u001B[38;5;124m__name__\u001B[39m\u001B[38;5;124m'\u001B[39m, \u001B[38;5;28;01mNone\u001B[39;00m)\n\u001B[0;32m-> 2227\u001B[0m         \u001B[38;5;28;01mraise\u001B[39;00m PydanticUserError(\n\u001B[1;32m   2228\u001B[0m             \u001B[38;5;124mf\u001B[39m\u001B[38;5;124m'\u001B[39m\u001B[38;5;124mThe `__modify_schema__` method is not supported in Pydantic v2. \u001B[39m\u001B[38;5;124m'\u001B[39m\n\u001B[1;32m   2229\u001B[0m             \u001B[38;5;124mf\u001B[39m\u001B[38;5;124m'\u001B[39m\u001B[38;5;124mUse `__get_pydantic_json_schema__` instead\u001B[39m\u001B[38;5;132;01m{\u001B[39;00m\u001B[38;5;124mf\u001B[39m\u001B[38;5;124m\"\u001B[39m\u001B[38;5;124m in class `\u001B[39m\u001B[38;5;132;01m{\u001B[39;00mcls_name\u001B[38;5;132;01m}\u001B[39;00m\u001B[38;5;124m`\u001B[39m\u001B[38;5;124m\"\u001B[39m\u001B[38;5;250m \u001B[39m\u001B[38;5;28;01mif\u001B[39;00m\u001B[38;5;250m \u001B[39mcls_name\u001B[38;5;250m \u001B[39m\u001B[38;5;28;01melse\u001B[39;00m\u001B[38;5;250m \u001B[39m\u001B[38;5;124m\"\u001B[39m\u001B[38;5;124m\"\u001B[39m\u001B[38;5;132;01m}\u001B[39;00m\u001B[38;5;124m.\u001B[39m\u001B[38;5;124m'\u001B[39m,\n\u001B[1;32m   2230\u001B[0m             code\u001B[38;5;241m=\u001B[39m\u001B[38;5;124m'\u001B[39m\u001B[38;5;124mcustom-json-schema\u001B[39m\u001B[38;5;124m'\u001B[39m,\n\u001B[1;32m   2231\u001B[0m         )\n\u001B[1;32m   2233\u001B[0m \u001B[38;5;66;03m# handle GenericAlias' but ignore Annotated which \"lies\" about its origin (in this case it would be `int`)\u001B[39;00m\n\u001B[1;32m   2234\u001B[0m \u001B[38;5;28;01mif\u001B[39;00m \u001B[38;5;28mhasattr\u001B[39m(tp, \u001B[38;5;124m'\u001B[39m\u001B[38;5;124m__origin__\u001B[39m\u001B[38;5;124m'\u001B[39m) \u001B[38;5;129;01mand\u001B[39;00m \u001B[38;5;129;01mnot\u001B[39;00m \u001B[38;5;28misinstance\u001B[39m(tp, \u001B[38;5;28mtype\u001B[39m(Annotated[\u001B[38;5;28mint\u001B[39m, \u001B[38;5;124m'\u001B[39m\u001B[38;5;124mplaceholder\u001B[39m\u001B[38;5;124m'\u001B[39m])):\n",
      "\u001B[0;31mPydanticUserError\u001B[0m: The `__modify_schema__` method is not supported in Pydantic v2. Use `__get_pydantic_json_schema__` instead in class `SecretStr`.\n\nFor further information visit https://errors.pydantic.dev/2.8/u/custom-json-schema"
     ]
    }
   ],
   "execution_count": 19
  },
  {
   "metadata": {},
   "cell_type": "code",
   "outputs": [],
   "execution_count": null,
   "source": "",
   "id": "1dd50e5268e9c9b4"
  }
 ],
 "metadata": {
  "kernelspec": {
   "display_name": "Python 3",
   "language": "python",
   "name": "python3"
  },
  "language_info": {
   "codemirror_mode": {
    "name": "ipython",
    "version": 2
   },
   "file_extension": ".py",
   "mimetype": "text/x-python",
   "name": "python",
   "nbconvert_exporter": "python",
   "pygments_lexer": "ipython2",
   "version": "2.7.6"
  }
 },
 "nbformat": 4,
 "nbformat_minor": 5
}
