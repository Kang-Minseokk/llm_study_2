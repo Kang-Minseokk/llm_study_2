{
 "cells": [
  {
   "cell_type": "code",
   "id": "initial_id",
   "metadata": {
    "collapsed": true,
    "ExecuteTime": {
     "end_time": "2024-09-05T13:57:30.203108Z",
     "start_time": "2024-09-05T13:57:30.197139Z"
    }
   },
   "source": [
    "import os\n",
    "\n",
    "from dotenv import load_dotenv\n",
    "\n",
    "load_dotenv()"
   ],
   "outputs": [
    {
     "data": {
      "text/plain": [
       "True"
      ]
     },
     "execution_count": 55,
     "metadata": {},
     "output_type": "execute_result"
    }
   ],
   "execution_count": 55
  },
  {
   "metadata": {
    "ExecuteTime": {
     "end_time": "2024-09-05T23:55:18.979766Z",
     "start_time": "2024-09-05T23:55:17.591395Z"
    }
   },
   "cell_type": "code",
   "source": "!pip install langgraph",
   "id": "f563d2d09b888a0",
   "outputs": [
    {
     "name": "stdout",
     "output_type": "stream",
     "text": [
      "Collecting langgraph\r\n",
      "  Downloading langgraph-0.2.17-py3-none-any.whl.metadata (13 kB)\r\n",
      "Collecting langchain-core<0.4,>=0.2.38 (from langgraph)\r\n",
      "  Downloading langchain_core-0.2.38-py3-none-any.whl.metadata (6.2 kB)\r\n",
      "Collecting langgraph-checkpoint<2.0.0,>=1.0.2 (from langgraph)\r\n",
      "  Downloading langgraph_checkpoint-1.0.9-py3-none-any.whl.metadata (4.5 kB)\r\n",
      "Requirement already satisfied: PyYAML>=5.3 in ./venvs/lib/python3.12/site-packages (from langchain-core<0.4,>=0.2.38->langgraph) (6.0.2)\r\n",
      "Requirement already satisfied: jsonpatch<2.0,>=1.33 in ./venvs/lib/python3.12/site-packages (from langchain-core<0.4,>=0.2.38->langgraph) (1.33)\r\n",
      "Requirement already satisfied: langsmith<0.2.0,>=0.1.75 in ./venvs/lib/python3.12/site-packages (from langchain-core<0.4,>=0.2.38->langgraph) (0.1.99)\r\n",
      "Requirement already satisfied: packaging<25,>=23.2 in ./venvs/lib/python3.12/site-packages (from langchain-core<0.4,>=0.2.38->langgraph) (24.1)\r\n",
      "Requirement already satisfied: pydantic<3.0.0,>=2.7.4 in ./venvs/lib/python3.12/site-packages (from langchain-core<0.4,>=0.2.38->langgraph) (2.8.2)\r\n",
      "Requirement already satisfied: tenacity!=8.4.0,<9.0.0,>=8.1.0 in ./venvs/lib/python3.12/site-packages (from langchain-core<0.4,>=0.2.38->langgraph) (8.5.0)\r\n",
      "Requirement already satisfied: typing-extensions>=4.7 in ./venvs/lib/python3.12/site-packages (from langchain-core<0.4,>=0.2.38->langgraph) (4.12.2)\r\n",
      "Requirement already satisfied: jsonpointer>=1.9 in ./venvs/lib/python3.12/site-packages (from jsonpatch<2.0,>=1.33->langchain-core<0.4,>=0.2.38->langgraph) (3.0.0)\r\n",
      "Requirement already satisfied: orjson<4.0.0,>=3.9.14 in ./venvs/lib/python3.12/site-packages (from langsmith<0.2.0,>=0.1.75->langchain-core<0.4,>=0.2.38->langgraph) (3.10.7)\r\n",
      "Requirement already satisfied: requests<3,>=2 in ./venvs/lib/python3.12/site-packages (from langsmith<0.2.0,>=0.1.75->langchain-core<0.4,>=0.2.38->langgraph) (2.32.3)\r\n",
      "Requirement already satisfied: annotated-types>=0.4.0 in ./venvs/lib/python3.12/site-packages (from pydantic<3.0.0,>=2.7.4->langchain-core<0.4,>=0.2.38->langgraph) (0.7.0)\r\n",
      "Requirement already satisfied: pydantic-core==2.20.1 in ./venvs/lib/python3.12/site-packages (from pydantic<3.0.0,>=2.7.4->langchain-core<0.4,>=0.2.38->langgraph) (2.20.1)\r\n",
      "Requirement already satisfied: charset-normalizer<4,>=2 in ./venvs/lib/python3.12/site-packages (from requests<3,>=2->langsmith<0.2.0,>=0.1.75->langchain-core<0.4,>=0.2.38->langgraph) (3.3.2)\r\n",
      "Requirement already satisfied: idna<4,>=2.5 in ./venvs/lib/python3.12/site-packages (from requests<3,>=2->langsmith<0.2.0,>=0.1.75->langchain-core<0.4,>=0.2.38->langgraph) (3.7)\r\n",
      "Requirement already satisfied: urllib3<3,>=1.21.1 in ./venvs/lib/python3.12/site-packages (from requests<3,>=2->langsmith<0.2.0,>=0.1.75->langchain-core<0.4,>=0.2.38->langgraph) (2.2.2)\r\n",
      "Requirement already satisfied: certifi>=2017.4.17 in ./venvs/lib/python3.12/site-packages (from requests<3,>=2->langsmith<0.2.0,>=0.1.75->langchain-core<0.4,>=0.2.38->langgraph) (2024.7.4)\r\n",
      "Downloading langgraph-0.2.17-py3-none-any.whl (96 kB)\r\n",
      "Downloading langchain_core-0.2.38-py3-none-any.whl (396 kB)\r\n",
      "Downloading langgraph_checkpoint-1.0.9-py3-none-any.whl (15 kB)\r\n",
      "Installing collected packages: langchain-core, langgraph-checkpoint, langgraph\r\n",
      "  Attempting uninstall: langchain-core\r\n",
      "    Found existing installation: langchain-core 0.2.37\r\n",
      "    Uninstalling langchain-core-0.2.37:\r\n",
      "      Successfully uninstalled langchain-core-0.2.37\r\n",
      "Successfully installed langchain-core-0.2.38 langgraph-0.2.17 langgraph-checkpoint-1.0.9\r\n"
     ]
    }
   ],
   "execution_count": 65
  },
  {
   "metadata": {
    "ExecuteTime": {
     "end_time": "2024-09-05T12:57:16.584417Z",
     "start_time": "2024-09-05T12:57:16.582686Z"
    }
   },
   "cell_type": "code",
   "source": [
    "from langchain_teddynote import logging\n",
    "logging.langsmith(\"CH17-LANGGRAPH\")"
   ],
   "id": "8862ad7c8c94792a",
   "outputs": [
    {
     "name": "stdout",
     "output_type": "stream",
     "text": [
      "LangSmith 추적을 시작합니다.\n",
      "[프로젝트명]\n",
      "CH17-LANGGRAPH\n"
     ]
    }
   ],
   "execution_count": 36
  },
  {
   "metadata": {
    "ExecuteTime": {
     "end_time": "2024-09-05T23:54:21.579337Z",
     "start_time": "2024-09-05T23:54:21.569972Z"
    }
   },
   "cell_type": "code",
   "source": [
    "from typing import TypedDict\n",
    "\n",
    "class GraphState(TypedDict):\n",
    "    goal: str\n",
    "    todo: list[str]\n",
    "    current_job: str\n",
    "    total_time: int\n",
    "    time_spent: int\n",
    "    status: str\n",
    "    "
   ],
   "id": "2941583936f0f091",
   "outputs": [],
   "execution_count": 60
  },
  {
   "metadata": {
    "ExecuteTime": {
     "end_time": "2024-09-05T23:53:08.018632Z",
     "start_time": "2024-09-05T23:53:08.011141Z"
    }
   },
   "cell_type": "code",
   "source": [
    "from langchain_openai import ChatOpenAI\n",
    "from langchain_core.prompts import ChatPromptTemplate\n",
    "from langchain_core.output_parsers import CommaSeparatedListOutputParser\n",
    "\n",
    "\n",
    "def create_todo_list(goal):\n",
    "    output_parser = CommaSeparatedListOutputParser()\n",
    "    prompt = ChatPromptTemplate.from_messages(\n",
    "        [\n",
    "            (\n",
    "                \"system\",\n",
    "                \"당신은 나의 할일을 관리하는 비서입니다. 당신의 임무는 나를 위하여 주어진 목표에 대하여 할일 목록을 작성하는 것입니다.\",\n",
    "            ),\n",
    "            (\n",
    "                \"human\",\n",
    "                \"주어진 목표(goal)를 잘 수행하기 위하여 할일 목록을 작성해 주세요. `할일:걸리는시간(hour)` 으로 작성하세요. 걸리는 시간은 반올림하여 int 로 작성하세요.\\n\\n#목표: {goal}\\n\\n#형식: {format_instuctions}\",\n",
    "            ),\n",
    "        ]\n",
    "    )\n",
    "    prompt = prompt.partial(format_instuctions=output_parser.get_format_instructions())\n",
    "    llm = ChatOpenAI(model_name=\"gpt-4-turbo\")\n",
    "    chain = prompt | llm | CommaSeparatedListOutputParser()\n",
    "\n",
    "    output = chain.invoke({\"goal\": goal})\n",
    "    return output"
   ],
   "id": "f2640c141d70ee03",
   "outputs": [],
   "execution_count": 58
  },
  {
   "metadata": {
    "ExecuteTime": {
     "end_time": "2024-09-05T23:53:13.243836Z",
     "start_time": "2024-09-05T23:53:08.751457Z"
    }
   },
   "cell_type": "code",
   "source": [
    "todo = create_todo_list(\"LangChain 튜토리얼로 RAG 공부하기\")\n",
    "todo"
   ],
   "id": "4c62c08af502907e",
   "outputs": [
    {
     "data": {
      "text/plain": [
       "['LangChain 공식 웹사이트 방문:1',\n",
       " 'RAG 모델 개념 이해하기:2',\n",
       " 'LangChain 튜토리얼 검색 및 선택:1',\n",
       " '선택한 튜토리얼 따라하기:3',\n",
       " 'RAG 모델을 사용한 예제 문제 풀기:2',\n",
       " '학습 내용 정리 및 복습:2']"
      ]
     },
     "execution_count": 59,
     "metadata": {},
     "output_type": "execute_result"
    }
   ],
   "execution_count": 59
  },
  {
   "metadata": {},
   "cell_type": "markdown",
   "source": "## ",
   "id": "7aca7e63c3a36b2c"
  },
  {
   "metadata": {
    "ExecuteTime": {
     "end_time": "2024-09-05T23:55:45.325141Z",
     "start_time": "2024-09-05T23:55:45.319890Z"
    }
   },
   "cell_type": "code",
   "source": [
    "def list_todo(state: GraphState) -> GraphState:\n",
    "    goal = state[\"goal\"]\n",
    "    # 리스트 작성\n",
    "    todo = create_todo_list(goal)\n",
    "    # 할 일 목록을 포맷팅\n",
    "    todo = format_task(create_todo_list(todo))\n",
    "    return GraphState(todo=todo)\n",
    "\n",
    "\n",
    "def start_job(state: GraphState) -> GraphState:\n",
    "    todo = state[\"todo\"]\n",
    "    if len(todo):\n",
    "        current_job, total_time = todo.pop(0)\n",
    "        status = \"진행중\"\n",
    "        time_spent = 0\n",
    "    return GraphState(\n",
    "        current_job=current_job,\n",
    "        total_time=total_time,\n",
    "        status=status,\n",
    "        time_spent=time_spent,\n",
    "    )\n",
    "\n",
    "\n",
    "def process_job(state: GraphState) -> GraphState:\n",
    "    time_spent = state[\"time_spent\"]\n",
    "    time_spent += 1\n",
    "\n",
    "    return GraphState(time_spent=time_spent)\n",
    "\n",
    "\n",
    "def check_progress(state: GraphState) -> GraphState:\n",
    "    if state[\"time_spent\"] >= state[\"total_time\"]:\n",
    "        status = \"다음 작업\"\n",
    "        if len(state[\"todo\"]) == 0:\n",
    "            status = \"종료\"\n",
    "    else:\n",
    "        status = \"진행중\"\n",
    "    return GraphState(status=status)\n",
    "\n",
    "\n",
    "def next_step(state: GraphState) -> GraphState:\n",
    "    return state[\"status\"]"
   ],
   "id": "572bcf40f3366c16",
   "outputs": [],
   "execution_count": 67
  },
  {
   "metadata": {
    "ExecuteTime": {
     "end_time": "2024-09-05T23:55:46.367021Z",
     "start_time": "2024-09-05T23:55:46.338814Z"
    }
   },
   "cell_type": "code",
   "source": [
    "from langgraph.graph import END, StateGraph\n",
    "from langgraph.checkpoint.memory import MemorySaver\n",
    "\n",
    "# langgraph.graph에서 StateGraph와 END를 가져옵니다.\n",
    "workflow = StateGraph(GraphState)\n",
    "\n",
    "# Todo 를 작성합니다.\n",
    "workflow.add_node(\"list_todo\", list_todo)  # 에이전트 노드를 추가합니다.\n",
    "\n",
    "# Todo 작업을 시작합니다.\n",
    "workflow.add_node(\"start_job\", start_job)\n",
    "\n",
    "# 작업을 진행합니다.\n",
    "workflow.add_node(\"process_job\", process_job)\n",
    "\n",
    "# 작업을 중간 체크합니다.\n",
    "workflow.add_node(\"check_progress\", check_progress)\n",
    "\n",
    "# 각 노드들을 연결합니다.\n",
    "workflow.add_edge(\"list_todo\", \"start_job\")\n",
    "workflow.add_edge(\"start_job\", \"process_job\")\n",
    "workflow.add_edge(\"process_job\", \"check_progress\")\n",
    "\n",
    "# 조건부 엣지를 추가합니다.\n",
    "workflow.add_conditional_edges(\n",
    "    \"check_progress\",  # 관련성 체크 노드에서 나온 결과를 is_relevant 함수에 전달합니다.\n",
    "    next_step,\n",
    "    {\n",
    "        \"진행중\": \"process_job\",  # 관련성이 있으면 종료합니다.\n",
    "        \"다음 작업\": \"start_job\",  # 관련성이 없으면 다시 답변을 생성합니다.\n",
    "        \"종료\": END,  # 관련성 체크 결과가 모호하다면 다시 답변을 생성합니다.\n",
    "    },\n",
    ")\n",
    "\n",
    "# 시작점을 설정합니다.\n",
    "workflow.set_entry_point(\"list_todo\")\n",
    "\n",
    "# 기록을 위한 메모리 저장소를 설정합니다.\n",
    "memory = MemorySaver()\n",
    "\n",
    "# 그래프를 컴파일합니다.\n",
    "app = workflow.compile(checkpointer=memory)"
   ],
   "id": "67c0bfed4bd65d10",
   "outputs": [],
   "execution_count": 68
  },
  {
   "metadata": {
    "ExecuteTime": {
     "end_time": "2024-09-05T23:55:50.380840Z",
     "start_time": "2024-09-05T23:55:47.737432Z"
    }
   },
   "cell_type": "code",
   "source": [
    "from IPython.display import Image, display\n",
    "\n",
    "try:\n",
    "    display(\n",
    "        Image(app.get_graph(xray=True).draw_mermaid_png())\n",
    "    )  # 실행 가능한 객체의 그래프를 mermaid 형식의 PNG로 그려서 표시합니다. \n",
    "       # xray=True는 추가적인 세부 정보를 포함합니다.\n",
    "except:\n",
    "    # 이 부분은 추가적인 의존성이 필요하며 선택적으로 실행됩니다.\n",
    "    pass"
   ],
   "id": "e64016afc3e64b3e",
   "outputs": [
    {
     "data": {
      "image/jpeg": "[encoded data removed]",
      "text/plain": [
       "<IPython.core.display.Image object>"
      ]
     },
     "metadata": {},
     "output_type": "display_data"
    }
   ],
   "execution_count": 69
  },
  {
   "metadata": {
    "ExecuteTime": {
     "end_time": "2024-09-05T23:55:53.805739Z",
     "start_time": "2024-09-05T23:55:50.383481Z"
    }
   },
   "cell_type": "code",
   "source": [
    "import pprint\n",
    "from langgraph.errors import GraphRecursionError\n",
    "from langchain_core.runnables import RunnableConfig\n",
    "\n",
    "config = RunnableConfig(recursion_limit=100, configurable={\"thread_id\": \"TODO\"})\n",
    "\n",
    "# GraphState 객체를 활용하여 질문을 입력합니다.\n",
    "inputs = GraphState(goal=\"랭체인(LangChain) 밋업에서 발표자료를 준비하기\")\n",
    "\n",
    "# app.stream을 통해 입력된 메시지에 대한 출력을 스트리밍합니다.\n",
    "try:\n",
    "    for output in app.stream(inputs, config=config):\n",
    "        # 출력된 결과에서 키와 값을 순회합니다.\n",
    "        for key, value in output.items():\n",
    "            # 노드의 이름과 해당 노드에서 나온 출력을 출력합니다.\n",
    "            pprint.pprint(f\"[NODE] {key}\")\n",
    "            for k, v in value.items():\n",
    "                pprint.pprint(f\"<{k}> {v}\")\n",
    "            pprint.pprint(\"===\" * 10)\n",
    "            # 출력 값을 예쁘게 출력합니다.\n",
    "            # pprint.pprint(value, indent=2, width=80, depth=None)\n",
    "except GraphRecursionError as e:\n",
    "    pprint.pprint(f\"Recursion limit reached: {e}\")"
   ],
   "id": "920124d265036231",
   "outputs": [
    {
     "ename": "NameError",
     "evalue": "name 'format_task' is not defined",
     "output_type": "error",
     "traceback": [
      "\u001B[0;31m---------------------------------------------------------------------------\u001B[0m",
      "\u001B[0;31mNameError\u001B[0m                                 Traceback (most recent call last)",
      "Cell \u001B[0;32mIn[70], line 12\u001B[0m\n\u001B[1;32m     10\u001B[0m \u001B[38;5;66;03m# app.stream을 통해 입력된 메시지에 대한 출력을 스트리밍합니다.\u001B[39;00m\n\u001B[1;32m     11\u001B[0m \u001B[38;5;28;01mtry\u001B[39;00m:\n\u001B[0;32m---> 12\u001B[0m \u001B[43m    \u001B[49m\u001B[38;5;28;43;01mfor\u001B[39;49;00m\u001B[43m \u001B[49m\u001B[43moutput\u001B[49m\u001B[43m \u001B[49m\u001B[38;5;129;43;01min\u001B[39;49;00m\u001B[43m \u001B[49m\u001B[43mapp\u001B[49m\u001B[38;5;241;43m.\u001B[39;49m\u001B[43mstream\u001B[49m\u001B[43m(\u001B[49m\u001B[43minputs\u001B[49m\u001B[43m,\u001B[49m\u001B[43m \u001B[49m\u001B[43mconfig\u001B[49m\u001B[38;5;241;43m=\u001B[39;49m\u001B[43mconfig\u001B[49m\u001B[43m)\u001B[49m\u001B[43m:\u001B[49m\n\u001B[1;32m     13\u001B[0m \u001B[43m        \u001B[49m\u001B[38;5;66;43;03m# 출력된 결과에서 키와 값을 순회합니다.\u001B[39;49;00m\n\u001B[1;32m     14\u001B[0m \u001B[43m        \u001B[49m\u001B[38;5;28;43;01mfor\u001B[39;49;00m\u001B[43m \u001B[49m\u001B[43mkey\u001B[49m\u001B[43m,\u001B[49m\u001B[43m \u001B[49m\u001B[43mvalue\u001B[49m\u001B[43m \u001B[49m\u001B[38;5;129;43;01min\u001B[39;49;00m\u001B[43m \u001B[49m\u001B[43moutput\u001B[49m\u001B[38;5;241;43m.\u001B[39;49m\u001B[43mitems\u001B[49m\u001B[43m(\u001B[49m\u001B[43m)\u001B[49m\u001B[43m:\u001B[49m\n\u001B[1;32m     15\u001B[0m \u001B[43m            \u001B[49m\u001B[38;5;66;43;03m# 노드의 이름과 해당 노드에서 나온 출력을 출력합니다.\u001B[39;49;00m\n\u001B[1;32m     16\u001B[0m \u001B[43m            \u001B[49m\u001B[43mpprint\u001B[49m\u001B[38;5;241;43m.\u001B[39;49m\u001B[43mpprint\u001B[49m\u001B[43m(\u001B[49m\u001B[38;5;124;43mf\u001B[39;49m\u001B[38;5;124;43m\"\u001B[39;49m\u001B[38;5;124;43m[NODE] \u001B[39;49m\u001B[38;5;132;43;01m{\u001B[39;49;00m\u001B[43mkey\u001B[49m\u001B[38;5;132;43;01m}\u001B[39;49;00m\u001B[38;5;124;43m\"\u001B[39;49m\u001B[43m)\u001B[49m\n",
      "File \u001B[0;32m~/projects/llm_study/venvs/lib/python3.12/site-packages/langgraph/pregel/__init__.py:1239\u001B[0m, in \u001B[0;36mPregel.stream\u001B[0;34m(self, input, config, stream_mode, output_keys, interrupt_before, interrupt_after, debug, subgraphs)\u001B[0m\n\u001B[1;32m   1228\u001B[0m \u001B[38;5;66;03m# Similarly to Bulk Synchronous Parallel / Pregel model\u001B[39;00m\n\u001B[1;32m   1229\u001B[0m \u001B[38;5;66;03m# computation proceeds in steps, while there are channel updates\u001B[39;00m\n\u001B[1;32m   1230\u001B[0m \u001B[38;5;66;03m# channel updates from step N are only visible in step N+1\u001B[39;00m\n\u001B[1;32m   1231\u001B[0m \u001B[38;5;66;03m# channels are guaranteed to be immutable for the duration of the step,\u001B[39;00m\n\u001B[1;32m   1232\u001B[0m \u001B[38;5;66;03m# with channel updates applied only at the transition between steps\u001B[39;00m\n\u001B[1;32m   1233\u001B[0m \u001B[38;5;28;01mwhile\u001B[39;00m loop\u001B[38;5;241m.\u001B[39mtick(\n\u001B[1;32m   1234\u001B[0m     input_keys\u001B[38;5;241m=\u001B[39m\u001B[38;5;28mself\u001B[39m\u001B[38;5;241m.\u001B[39minput_channels,\n\u001B[1;32m   1235\u001B[0m     interrupt_before\u001B[38;5;241m=\u001B[39minterrupt_before,\n\u001B[1;32m   1236\u001B[0m     interrupt_after\u001B[38;5;241m=\u001B[39minterrupt_after,\n\u001B[1;32m   1237\u001B[0m     manager\u001B[38;5;241m=\u001B[39mrun_manager,\n\u001B[1;32m   1238\u001B[0m ):\n\u001B[0;32m-> 1239\u001B[0m \u001B[43m    \u001B[49m\u001B[38;5;28;43;01mfor\u001B[39;49;00m\u001B[43m \u001B[49m\u001B[43m_\u001B[49m\u001B[43m \u001B[49m\u001B[38;5;129;43;01min\u001B[39;49;00m\u001B[43m \u001B[49m\u001B[43mrunner\u001B[49m\u001B[38;5;241;43m.\u001B[39;49m\u001B[43mtick\u001B[49m\u001B[43m(\u001B[49m\n\u001B[1;32m   1240\u001B[0m \u001B[43m        \u001B[49m\u001B[43mloop\u001B[49m\u001B[38;5;241;43m.\u001B[39;49m\u001B[43mtasks\u001B[49m\u001B[43m,\u001B[49m\n\u001B[1;32m   1241\u001B[0m \u001B[43m        \u001B[49m\u001B[43mtimeout\u001B[49m\u001B[38;5;241;43m=\u001B[39;49m\u001B[38;5;28;43mself\u001B[39;49m\u001B[38;5;241;43m.\u001B[39;49m\u001B[43mstep_timeout\u001B[49m\u001B[43m,\u001B[49m\n\u001B[1;32m   1242\u001B[0m \u001B[43m        \u001B[49m\u001B[43mretry_policy\u001B[49m\u001B[38;5;241;43m=\u001B[39;49m\u001B[38;5;28;43mself\u001B[39;49m\u001B[38;5;241;43m.\u001B[39;49m\u001B[43mretry_policy\u001B[49m\u001B[43m,\u001B[49m\n\u001B[1;32m   1243\u001B[0m \u001B[43m    \u001B[49m\u001B[43m)\u001B[49m\u001B[43m:\u001B[49m\n\u001B[1;32m   1244\u001B[0m \u001B[43m        \u001B[49m\u001B[38;5;66;43;03m# emit output\u001B[39;49;00m\n\u001B[1;32m   1245\u001B[0m \u001B[43m        \u001B[49m\u001B[38;5;28;43;01mfor\u001B[39;49;00m\u001B[43m \u001B[49m\u001B[43mo\u001B[49m\u001B[43m \u001B[49m\u001B[38;5;129;43;01min\u001B[39;49;00m\u001B[43m \u001B[49m\u001B[43moutput\u001B[49m\u001B[43m(\u001B[49m\u001B[43m)\u001B[49m\u001B[43m:\u001B[49m\n\u001B[1;32m   1246\u001B[0m \u001B[43m            \u001B[49m\u001B[38;5;28;43;01myield\u001B[39;49;00m\u001B[43m \u001B[49m\u001B[43mo\u001B[49m\n",
      "File \u001B[0;32m~/projects/llm_study/venvs/lib/python3.12/site-packages/langgraph/pregel/runner.py:85\u001B[0m, in \u001B[0;36mPregelRunner.tick\u001B[0;34m(self, tasks, timeout, retry_policy)\u001B[0m\n\u001B[1;32m     83\u001B[0m     \u001B[38;5;28;01myield\u001B[39;00m\n\u001B[1;32m     84\u001B[0m \u001B[38;5;66;03m# panic on failure or timeout\u001B[39;00m\n\u001B[0;32m---> 85\u001B[0m \u001B[43m_panic_or_proceed\u001B[49m\u001B[43m(\u001B[49m\u001B[43mall_futures\u001B[49m\u001B[43m)\u001B[49m\n",
      "File \u001B[0;32m~/projects/llm_study/venvs/lib/python3.12/site-packages/langgraph/pregel/runner.py:186\u001B[0m, in \u001B[0;36m_panic_or_proceed\u001B[0;34m(futs, timeout_exc_cls)\u001B[0m\n\u001B[1;32m    184\u001B[0m             inflight\u001B[38;5;241m.\u001B[39mpop()\u001B[38;5;241m.\u001B[39mcancel()\n\u001B[1;32m    185\u001B[0m         \u001B[38;5;66;03m# raise the exception\u001B[39;00m\n\u001B[0;32m--> 186\u001B[0m         \u001B[38;5;28;01mraise\u001B[39;00m exc\n\u001B[1;32m    187\u001B[0m \u001B[38;5;28;01mif\u001B[39;00m inflight:\n\u001B[1;32m    188\u001B[0m     \u001B[38;5;66;03m# if we got here means we timed out\u001B[39;00m\n\u001B[1;32m    189\u001B[0m     \u001B[38;5;28;01mwhile\u001B[39;00m inflight:\n\u001B[1;32m    190\u001B[0m         \u001B[38;5;66;03m# cancel all pending tasks\u001B[39;00m\n",
      "File \u001B[0;32m~/projects/llm_study/venvs/lib/python3.12/site-packages/langgraph/pregel/executor.py:59\u001B[0m, in \u001B[0;36mBackgroundExecutor.done\u001B[0;34m(self, task)\u001B[0m\n\u001B[1;32m     57\u001B[0m \u001B[38;5;28;01mdef\u001B[39;00m \u001B[38;5;21mdone\u001B[39m(\u001B[38;5;28mself\u001B[39m, task: concurrent\u001B[38;5;241m.\u001B[39mfutures\u001B[38;5;241m.\u001B[39mFuture) \u001B[38;5;241m-\u001B[39m\u001B[38;5;241m>\u001B[39m \u001B[38;5;28;01mNone\u001B[39;00m:\n\u001B[1;32m     58\u001B[0m     \u001B[38;5;28;01mtry\u001B[39;00m:\n\u001B[0;32m---> 59\u001B[0m         \u001B[43mtask\u001B[49m\u001B[38;5;241;43m.\u001B[39;49m\u001B[43mresult\u001B[49m\u001B[43m(\u001B[49m\u001B[43m)\u001B[49m\n\u001B[1;32m     60\u001B[0m     \u001B[38;5;28;01mexcept\u001B[39;00m GraphInterrupt:\n\u001B[1;32m     61\u001B[0m         \u001B[38;5;66;03m# This exception is an interruption signal, not an error\u001B[39;00m\n\u001B[1;32m     62\u001B[0m         \u001B[38;5;66;03m# so we don't want to re-raise it on exit\u001B[39;00m\n\u001B[1;32m     63\u001B[0m         \u001B[38;5;28mself\u001B[39m\u001B[38;5;241m.\u001B[39mtasks\u001B[38;5;241m.\u001B[39mpop(task)\n",
      "File \u001B[0;32m/opt/homebrew/Cellar/python@3.12/3.12.4/Frameworks/Python.framework/Versions/3.12/lib/python3.12/concurrent/futures/_base.py:449\u001B[0m, in \u001B[0;36mFuture.result\u001B[0;34m(self, timeout)\u001B[0m\n\u001B[1;32m    447\u001B[0m     \u001B[38;5;28;01mraise\u001B[39;00m CancelledError()\n\u001B[1;32m    448\u001B[0m \u001B[38;5;28;01melif\u001B[39;00m \u001B[38;5;28mself\u001B[39m\u001B[38;5;241m.\u001B[39m_state \u001B[38;5;241m==\u001B[39m FINISHED:\n\u001B[0;32m--> 449\u001B[0m     \u001B[38;5;28;01mreturn\u001B[39;00m \u001B[38;5;28;43mself\u001B[39;49m\u001B[38;5;241;43m.\u001B[39;49m\u001B[43m__get_result\u001B[49m\u001B[43m(\u001B[49m\u001B[43m)\u001B[49m\n\u001B[1;32m    451\u001B[0m \u001B[38;5;28mself\u001B[39m\u001B[38;5;241m.\u001B[39m_condition\u001B[38;5;241m.\u001B[39mwait(timeout)\n\u001B[1;32m    453\u001B[0m \u001B[38;5;28;01mif\u001B[39;00m \u001B[38;5;28mself\u001B[39m\u001B[38;5;241m.\u001B[39m_state \u001B[38;5;129;01min\u001B[39;00m [CANCELLED, CANCELLED_AND_NOTIFIED]:\n",
      "File \u001B[0;32m/opt/homebrew/Cellar/python@3.12/3.12.4/Frameworks/Python.framework/Versions/3.12/lib/python3.12/concurrent/futures/_base.py:401\u001B[0m, in \u001B[0;36mFuture.__get_result\u001B[0;34m(self)\u001B[0m\n\u001B[1;32m    399\u001B[0m \u001B[38;5;28;01mif\u001B[39;00m \u001B[38;5;28mself\u001B[39m\u001B[38;5;241m.\u001B[39m_exception:\n\u001B[1;32m    400\u001B[0m     \u001B[38;5;28;01mtry\u001B[39;00m:\n\u001B[0;32m--> 401\u001B[0m         \u001B[38;5;28;01mraise\u001B[39;00m \u001B[38;5;28mself\u001B[39m\u001B[38;5;241m.\u001B[39m_exception\n\u001B[1;32m    402\u001B[0m     \u001B[38;5;28;01mfinally\u001B[39;00m:\n\u001B[1;32m    403\u001B[0m         \u001B[38;5;66;03m# Break a reference cycle with the exception in self._exception\u001B[39;00m\n\u001B[1;32m    404\u001B[0m         \u001B[38;5;28mself\u001B[39m \u001B[38;5;241m=\u001B[39m \u001B[38;5;28;01mNone\u001B[39;00m\n",
      "File \u001B[0;32m/opt/homebrew/Cellar/python@3.12/3.12.4/Frameworks/Python.framework/Versions/3.12/lib/python3.12/concurrent/futures/thread.py:58\u001B[0m, in \u001B[0;36m_WorkItem.run\u001B[0;34m(self)\u001B[0m\n\u001B[1;32m     55\u001B[0m     \u001B[38;5;28;01mreturn\u001B[39;00m\n\u001B[1;32m     57\u001B[0m \u001B[38;5;28;01mtry\u001B[39;00m:\n\u001B[0;32m---> 58\u001B[0m     result \u001B[38;5;241m=\u001B[39m \u001B[38;5;28;43mself\u001B[39;49m\u001B[38;5;241;43m.\u001B[39;49m\u001B[43mfn\u001B[49m\u001B[43m(\u001B[49m\u001B[38;5;241;43m*\u001B[39;49m\u001B[38;5;28;43mself\u001B[39;49m\u001B[38;5;241;43m.\u001B[39;49m\u001B[43margs\u001B[49m\u001B[43m,\u001B[49m\u001B[43m \u001B[49m\u001B[38;5;241;43m*\u001B[39;49m\u001B[38;5;241;43m*\u001B[39;49m\u001B[38;5;28;43mself\u001B[39;49m\u001B[38;5;241;43m.\u001B[39;49m\u001B[43mkwargs\u001B[49m\u001B[43m)\u001B[49m\n\u001B[1;32m     59\u001B[0m \u001B[38;5;28;01mexcept\u001B[39;00m \u001B[38;5;167;01mBaseException\u001B[39;00m \u001B[38;5;28;01mas\u001B[39;00m exc:\n\u001B[1;32m     60\u001B[0m     \u001B[38;5;28mself\u001B[39m\u001B[38;5;241m.\u001B[39mfuture\u001B[38;5;241m.\u001B[39mset_exception(exc)\n",
      "File \u001B[0;32m~/projects/llm_study/venvs/lib/python3.12/site-packages/langgraph/pregel/retry.py:26\u001B[0m, in \u001B[0;36mrun_with_retry\u001B[0;34m(task, retry_policy)\u001B[0m\n\u001B[1;32m     24\u001B[0m task\u001B[38;5;241m.\u001B[39mwrites\u001B[38;5;241m.\u001B[39mclear()\n\u001B[1;32m     25\u001B[0m \u001B[38;5;66;03m# run the task\u001B[39;00m\n\u001B[0;32m---> 26\u001B[0m \u001B[43mtask\u001B[49m\u001B[38;5;241;43m.\u001B[39;49m\u001B[43mproc\u001B[49m\u001B[38;5;241;43m.\u001B[39;49m\u001B[43minvoke\u001B[49m\u001B[43m(\u001B[49m\u001B[43mtask\u001B[49m\u001B[38;5;241;43m.\u001B[39;49m\u001B[43minput\u001B[49m\u001B[43m,\u001B[49m\u001B[43m \u001B[49m\u001B[43mtask\u001B[49m\u001B[38;5;241;43m.\u001B[39;49m\u001B[43mconfig\u001B[49m\u001B[43m)\u001B[49m\n\u001B[1;32m     27\u001B[0m \u001B[38;5;66;03m# if successful, end\u001B[39;00m\n\u001B[1;32m     28\u001B[0m \u001B[38;5;28;01mbreak\u001B[39;00m\n",
      "File \u001B[0;32m~/projects/llm_study/venvs/lib/python3.12/site-packages/langgraph/utils/runnable.py:341\u001B[0m, in \u001B[0;36mRunnableSeq.invoke\u001B[0;34m(self, input, config, **kwargs)\u001B[0m\n\u001B[1;32m    339\u001B[0m context\u001B[38;5;241m.\u001B[39mrun(_set_config_context, config)\n\u001B[1;32m    340\u001B[0m \u001B[38;5;28;01mif\u001B[39;00m i \u001B[38;5;241m==\u001B[39m \u001B[38;5;241m0\u001B[39m:\n\u001B[0;32m--> 341\u001B[0m     \u001B[38;5;28minput\u001B[39m \u001B[38;5;241m=\u001B[39m \u001B[43mcontext\u001B[49m\u001B[38;5;241;43m.\u001B[39;49m\u001B[43mrun\u001B[49m\u001B[43m(\u001B[49m\u001B[43mstep\u001B[49m\u001B[38;5;241;43m.\u001B[39;49m\u001B[43minvoke\u001B[49m\u001B[43m,\u001B[49m\u001B[43m \u001B[49m\u001B[38;5;28;43minput\u001B[39;49m\u001B[43m,\u001B[49m\u001B[43m \u001B[49m\u001B[43mconfig\u001B[49m\u001B[43m,\u001B[49m\u001B[43m \u001B[49m\u001B[38;5;241;43m*\u001B[39;49m\u001B[38;5;241;43m*\u001B[39;49m\u001B[43mkwargs\u001B[49m\u001B[43m)\u001B[49m\n\u001B[1;32m    342\u001B[0m \u001B[38;5;28;01melse\u001B[39;00m:\n\u001B[1;32m    343\u001B[0m     \u001B[38;5;28minput\u001B[39m \u001B[38;5;241m=\u001B[39m context\u001B[38;5;241m.\u001B[39mrun(step\u001B[38;5;241m.\u001B[39minvoke, \u001B[38;5;28minput\u001B[39m, config)\n",
      "File \u001B[0;32m~/projects/llm_study/venvs/lib/python3.12/site-packages/langgraph/utils/runnable.py:129\u001B[0m, in \u001B[0;36mRunnableCallable.invoke\u001B[0;34m(self, input, config, **kwargs)\u001B[0m\n\u001B[1;32m    127\u001B[0m \u001B[38;5;28;01melse\u001B[39;00m:\n\u001B[1;32m    128\u001B[0m     context\u001B[38;5;241m.\u001B[39mrun(_set_config_context, config)\n\u001B[0;32m--> 129\u001B[0m     ret \u001B[38;5;241m=\u001B[39m \u001B[43mcontext\u001B[49m\u001B[38;5;241;43m.\u001B[39;49m\u001B[43mrun\u001B[49m\u001B[43m(\u001B[49m\u001B[38;5;28;43mself\u001B[39;49m\u001B[38;5;241;43m.\u001B[39;49m\u001B[43mfunc\u001B[49m\u001B[43m,\u001B[49m\u001B[43m \u001B[49m\u001B[38;5;28;43minput\u001B[39;49m\u001B[43m,\u001B[49m\u001B[43m \u001B[49m\u001B[38;5;241;43m*\u001B[39;49m\u001B[38;5;241;43m*\u001B[39;49m\u001B[43mkwargs\u001B[49m\u001B[43m)\u001B[49m\n\u001B[1;32m    130\u001B[0m \u001B[38;5;28;01mif\u001B[39;00m \u001B[38;5;28misinstance\u001B[39m(ret, Runnable) \u001B[38;5;129;01mand\u001B[39;00m \u001B[38;5;28mself\u001B[39m\u001B[38;5;241m.\u001B[39mrecurse:\n\u001B[1;32m    131\u001B[0m     \u001B[38;5;28;01mreturn\u001B[39;00m ret\u001B[38;5;241m.\u001B[39minvoke(\u001B[38;5;28minput\u001B[39m, config)\n",
      "Cell \u001B[0;32mIn[67], line 6\u001B[0m, in \u001B[0;36mlist_todo\u001B[0;34m(state)\u001B[0m\n\u001B[1;32m      4\u001B[0m todo \u001B[38;5;241m=\u001B[39m create_todo_list(goal)\n\u001B[1;32m      5\u001B[0m \u001B[38;5;66;03m# 할 일 목록을 포맷팅\u001B[39;00m\n\u001B[0;32m----> 6\u001B[0m todo \u001B[38;5;241m=\u001B[39m \u001B[43mformat_task\u001B[49m(create_todo_list(todo))\n\u001B[1;32m      7\u001B[0m \u001B[38;5;28;01mreturn\u001B[39;00m GraphState(todo\u001B[38;5;241m=\u001B[39mtodo)\n",
      "\u001B[0;31mNameError\u001B[0m: name 'format_task' is not defined"
     ]
    }
   ],
   "execution_count": 70
  },
  {
   "metadata": {},
   "cell_type": "code",
   "outputs": [],
   "execution_count": null,
   "source": "",
   "id": "772e65edefca7c2"
  }
 ],
 "metadata": {
  "kernelspec": {
   "display_name": "Python 3",
   "language": "python",
   "name": "python3"
  },
  "language_info": {
   "codemirror_mode": {
    "name": "ipython",
    "version": 2
   },
   "file_extension": ".py",
   "mimetype": "text/x-python",
   "name": "python",
   "nbconvert_exporter": "python",
   "pygments_lexer": "ipython2",
   "version": "2.7.6"
  }
 },
 "nbformat": 4,
 "nbformat_minor": 5
}
