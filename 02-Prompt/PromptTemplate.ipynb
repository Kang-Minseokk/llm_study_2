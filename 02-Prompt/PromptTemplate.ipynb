{
 "cells": [
  {
   "metadata": {
    "ExecuteTime": {
     "end_time": "2024-09-11T13:59:11.251308Z",
     "start_time": "2024-09-11T13:59:11.244836Z"
    }
   },
   "cell_type": "code",
   "source": [
    "from dotenv import load_dotenv\n",
    "load_dotenv()"
   ],
   "id": "f3bb7cbee4c98a1c",
   "outputs": [
    {
     "data": {
      "text/plain": [
       "True"
      ]
     },
     "execution_count": 1,
     "metadata": {},
     "output_type": "execute_result"
    }
   ],
   "execution_count": 1
  },
  {
   "metadata": {
    "ExecuteTime": {
     "end_time": "2024-09-11T13:59:40.104895Z",
     "start_time": "2024-09-11T13:59:40.098947Z"
    }
   },
   "cell_type": "code",
   "source": [
    "from langchain_teddynote import logging\n",
    "logging.langsmith(\"CH02-Prompt\")"
   ],
   "id": "964d7aa86420e117",
   "outputs": [
    {
     "name": "stdout",
     "output_type": "stream",
     "text": [
      "LangSmith 추적을 시작합니다.\n",
      "[프로젝트명]\n",
      "CH02-Prompt\n"
     ]
    }
   ],
   "execution_count": 2
  },
  {
   "metadata": {
    "ExecuteTime": {
     "end_time": "2024-09-11T14:00:00.921291Z",
     "start_time": "2024-09-11T14:00:00.379565Z"
    }
   },
   "cell_type": "code",
   "source": [
    "from langchain_openai import ChatOpenAI\n",
    "llm = ChatOpenAI()"
   ],
   "id": "9901dc5d23b1963b",
   "outputs": [],
   "execution_count": 3
  },
  {
   "metadata": {},
   "cell_type": "markdown",
   "source": "## 방법1. from_template()메서드를 사용해서 PromptTemplate객체 생성",
   "id": "5a469ae51950c10d"
  },
  {
   "metadata": {
    "ExecuteTime": {
     "end_time": "2024-09-11T14:01:40.343982Z",
     "start_time": "2024-09-11T14:01:40.338765Z"
    }
   },
   "cell_type": "code",
   "source": [
    "from langchain_core.prompts import PromptTemplate\n",
    "\n",
    "template = \"{country}의 수도는 어디인가요?\"\n",
    "prompt = PromptTemplate.from_template(template)\n",
    "prompt"
   ],
   "id": "ec3f99ed4d69ab64",
   "outputs": [
    {
     "data": {
      "text/plain": [
       "PromptTemplate(input_variables=['country'], template='{country}의 수도는 어디인가요?')"
      ]
     },
     "execution_count": 4,
     "metadata": {},
     "output_type": "execute_result"
    }
   ],
   "execution_count": 4
  },
  {
   "metadata": {
    "ExecuteTime": {
     "end_time": "2024-09-11T14:03:06.944856Z",
     "start_time": "2024-09-11T14:03:06.940562Z"
    }
   },
   "cell_type": "code",
   "source": [
    "prompt = prompt.format(country=\"대한민국\")\n",
    "prompt"
   ],
   "id": "f84becc7d3378cfc",
   "outputs": [
    {
     "data": {
      "text/plain": [
       "'대한민국의 수도는 어디인가요?'"
      ]
     },
     "execution_count": 5,
     "metadata": {},
     "output_type": "execute_result"
    }
   ],
   "execution_count": 5
  },
  {
   "metadata": {
    "ExecuteTime": {
     "end_time": "2024-09-11T14:03:50.869995Z",
     "start_time": "2024-09-11T14:03:50.864391Z"
    }
   },
   "cell_type": "code",
   "source": [
    "template = \"{country}의 수도는 어디인가요?\"\n",
    "prompt = PromptTemplate.from_template(template)\n",
    "\n",
    "chain = prompt | llm"
   ],
   "id": "b3f50654acbb8e3",
   "outputs": [],
   "execution_count": 6
  },
  {
   "metadata": {
    "ExecuteTime": {
     "end_time": "2024-09-11T14:04:43.504719Z",
     "start_time": "2024-09-11T14:04:42.780452Z"
    }
   },
   "cell_type": "code",
   "source": "chain.invoke(\"프랑스\").content",
   "id": "ee7e292fed81a8be",
   "outputs": [
    {
     "data": {
      "text/plain": [
       "'프랑스의 수도는 파리(Paris)입니다.'"
      ]
     },
     "execution_count": 10,
     "metadata": {},
     "output_type": "execute_result"
    }
   ],
   "execution_count": 10
  },
  {
   "metadata": {},
   "cell_type": "markdown",
   "source": "## 방법2. PromptTemplate객체 생성과 동시에 prompt생성",
   "id": "3a3642a877a33d77"
  },
  {
   "metadata": {
    "ExecuteTime": {
     "end_time": "2024-09-11T14:07:22.933024Z",
     "start_time": "2024-09-11T14:07:22.928205Z"
    }
   },
   "cell_type": "code",
   "source": [
    "template = \"{country}의 수도는 어디인가요?\"\n",
    "\n",
    "prompt = PromptTemplate(\n",
    "    template=template,\n",
    "    input_variables=[\"country\"]\n",
    ")\n",
    "\n",
    "prompt"
   ],
   "id": "f69e0e395bdea67f",
   "outputs": [
    {
     "data": {
      "text/plain": [
       "PromptTemplate(input_variables=['country'], template='{country}의 수도는 어디인가요?')"
      ]
     },
     "execution_count": 15,
     "metadata": {},
     "output_type": "execute_result"
    }
   ],
   "execution_count": 15
  },
  {
   "metadata": {
    "ExecuteTime": {
     "end_time": "2024-09-11T14:07:40.479770Z",
     "start_time": "2024-09-11T14:07:40.476208Z"
    }
   },
   "cell_type": "code",
   "source": "prompt.format(country=\"대한민국\")",
   "id": "159141e26509ca85",
   "outputs": [
    {
     "data": {
      "text/plain": [
       "'대한민국의 수도는 어디인가요?'"
      ]
     },
     "execution_count": 18,
     "metadata": {},
     "output_type": "execute_result"
    }
   ],
   "execution_count": 18
  },
  {
   "metadata": {
    "ExecuteTime": {
     "end_time": "2024-09-11T14:09:15.168641Z",
     "start_time": "2024-09-11T14:09:15.165041Z"
    }
   },
   "cell_type": "code",
   "source": [
    "template = \"{country1}과 {country2}의 수도는 각각 어디인가요?\"\n",
    "\n",
    "prompt = PromptTemplate(\n",
    "    template=template,\n",
    "    input_variables=[\"country1\"],\n",
    "    partial_variables={\n",
    "        \"country2\": \"미국\"\n",
    "    },\n",
    ")\n",
    "prompt"
   ],
   "id": "82e45ee34abdecb3",
   "outputs": [
    {
     "data": {
      "text/plain": [
       "PromptTemplate(input_variables=['country1'], partial_variables={'country2': '미국'}, template='{country1}과 {country2}의 수도는 각각 어디인가요?')"
      ]
     },
     "execution_count": 21,
     "metadata": {},
     "output_type": "execute_result"
    }
   ],
   "execution_count": 21
  },
  {
   "metadata": {
    "ExecuteTime": {
     "end_time": "2024-09-11T14:14:26.316592Z",
     "start_time": "2024-09-11T14:14:26.313893Z"
    }
   },
   "cell_type": "code",
   "source": "prompt.format(country1=\"대한민국\")",
   "id": "d177e5c461da10b",
   "outputs": [
    {
     "data": {
      "text/plain": [
       "'대한민국과 미국의 수도는 각각 어디인가요?'"
      ]
     },
     "execution_count": 23,
     "metadata": {},
     "output_type": "execute_result"
    }
   ],
   "execution_count": 23
  },
  {
   "metadata": {
    "ExecuteTime": {
     "end_time": "2024-09-11T14:15:03.725711Z",
     "start_time": "2024-09-11T14:15:03.714292Z"
    }
   },
   "cell_type": "code",
   "source": [
    "prompt_partial = prompt.partial(country2=\"캐나다\") # partial 메서드를 사용해서 일부 변수만을 따로 저장할 수 있습니다.\n",
    "prompt_partial"
   ],
   "id": "d3a5c2b9a48802bd",
   "outputs": [
    {
     "data": {
      "text/plain": [
       "PromptTemplate(input_variables=['country1'], partial_variables={'country2': '캐나다'}, template='{country1}과 {country2}의 수도는 각각 어디인가요?')"
      ]
     },
     "execution_count": 24,
     "metadata": {},
     "output_type": "execute_result"
    }
   ],
   "execution_count": 24
  },
  {
   "metadata": {},
   "cell_type": "code",
   "outputs": [],
   "execution_count": null,
   "source": "prompt_partial.format(country1=\"대한민국\")",
   "id": "440ca68bc1a9fd0c"
  }
 ],
 "metadata": {
  "kernelspec": {
   "display_name": "Python 3",
   "language": "python",
   "name": "python3"
  },
  "language_info": {
   "codemirror_mode": {
    "name": "ipython",
    "version": 2
   },
   "file_extension": ".py",
   "mimetype": "text/x-python",
   "name": "python",
   "nbconvert_exporter": "python",
   "pygments_lexer": "ipython2",
   "version": "2.7.6"
  }
 },
 "nbformat": 4,
 "nbformat_minor": 5
}
