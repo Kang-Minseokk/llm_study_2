{
 "cells": [
  {
   "cell_type": "code",
   "id": "initial_id",
   "metadata": {
    "collapsed": true,
    "ExecuteTime": {
     "end_time": "2024-09-24T12:30:06.346249Z",
     "start_time": "2024-09-24T12:30:06.340172Z"
    }
   },
   "source": [
    "from dotenv import load_dotenv\n",
    "load_dotenv()"
   ],
   "outputs": [
    {
     "data": {
      "text/plain": [
       "True"
      ]
     },
     "execution_count": 1,
     "metadata": {},
     "output_type": "execute_result"
    }
   ],
   "execution_count": 1
  },
  {
   "metadata": {
    "ExecuteTime": {
     "end_time": "2024-09-24T12:30:38.634284Z",
     "start_time": "2024-09-24T12:30:38.631002Z"
    }
   },
   "cell_type": "code",
   "source": [
    "from langchain_teddynote import logging\n",
    "logging.langsmith('Ch03-OutputParser')"
   ],
   "id": "52946ffd9cffc0e",
   "outputs": [
    {
     "name": "stdout",
     "output_type": "stream",
     "text": [
      "LangSmith 추적을 시작합니다.\n",
      "[프로젝트명]\n",
      "Ch03-OutputParser\n"
     ]
    }
   ],
   "execution_count": 2
  },
  {
   "metadata": {
    "ExecuteTime": {
     "end_time": "2024-09-24T12:30:59.334907Z",
     "start_time": "2024-09-24T12:30:59.216279Z"
    }
   },
   "cell_type": "code",
   "source": "from langchain_teddynote.messages import stream_response",
   "id": "c81e4cfbc2156cf2",
   "outputs": [],
   "execution_count": 3
  },
  {
   "metadata": {
    "ExecuteTime": {
     "end_time": "2024-09-24T12:32:22.662510Z",
     "start_time": "2024-09-24T12:32:22.639695Z"
    }
   },
   "cell_type": "code",
   "source": [
    "from langchain_openai import ChatOpenAI\n",
    "from langchain_core.output_parsers import PydanticOutputParser\n",
    "from langchain_core.pydantic_v1 import BaseModel, Field\n",
    "\n",
    "llm = ChatOpenAI(temperature=0, model_name='gpt-4o')"
   ],
   "id": "a0050820d98c6f44",
   "outputs": [],
   "execution_count": 5
  },
  {
   "metadata": {
    "ExecuteTime": {
     "end_time": "2024-09-24T12:32:34.697984Z",
     "start_time": "2024-09-24T12:32:34.695437Z"
    }
   },
   "cell_type": "code",
   "source": [
    "email_conversation = \"\"\"From: 김철수 (chulsoo.kim@bikecorporation.me)\n",
    "To: 이은채 (eunchae@teddyinternational.me)\n",
    "Subject: \"ZENESIS\" 자전거 유통 협력 및 미팅 일정 제안\n",
    "\n",
    "안녕하세요, 이은채 대리님,\n",
    "\n",
    "저는 바이크코퍼레이션의 김철수 상무입니다. 최근 보도자료를 통해 귀사의 신규 자전거 \"ZENESIS\"에 대해 알게 되었습니다. 바이크코퍼레이션은 자전거 제조 및 유통 분야에서 혁신과 품질을 선도하는 기업으로, 이 분야에서의 장기적인 경험과 전문성을 가지고 있습니다.\n",
    "\n",
    "ZENESIS 모델에 대한 상세한 브로슈어를 요청드립니다. 특히 기술 사양, 배터리 성능, 그리고 디자인 측면에 대한 정보가 필요합니다. 이를 통해 저희가 제안할 유통 전략과 마케팅 계획을 보다 구체화할 수 있을 것입니다.\n",
    "\n",
    "또한, 협력 가능성을 더 깊이 논의하기 위해 다음 주 화요일(1월 15일) 오전 10시에 미팅을 제안합니다. 귀사 사무실에서 만나 이야기를 나눌 수 있을까요?\n",
    "\n",
    "감사합니다.\n",
    "\n",
    "김철수\n",
    "상무이사\n",
    "바이크코퍼레이션\n",
    "\"\"\""
   ],
   "id": "e5e415cd04fec6dd",
   "outputs": [],
   "execution_count": 6
  },
  {
   "metadata": {
    "ExecuteTime": {
     "end_time": "2024-09-24T12:39:07.402063Z",
     "start_time": "2024-09-24T12:39:01.659860Z"
    }
   },
   "cell_type": "code",
   "source": [
    "from itertools import chain\n",
    "from langchain_core.prompts import PromptTemplate\n",
    "\n",
    "prompt = PromptTemplate.from_template(\n",
    "    f\"다음의 이메일 내용 중에서 중요한 내용을 추출해주세요 \\n\\n {email_conversation}\"\n",
    ")\n",
    "\n",
    "llm = ChatOpenAI(temperature=0, model_name='gpt-4o')\n",
    "\n",
    "chain = prompt | llm\n",
    "answer = chain.stream({\"email_conversation\": email_conversation})\n",
    "output = stream_response(answer, return_output=True)"
   ],
   "id": "27645bfdc1eb306a",
   "outputs": [
    {
     "name": "stdout",
     "output_type": "stream",
     "text": [
      "**중요 내용 추출:**\n",
      "\n",
      "1. **발신자:** 김철수 (바이크코퍼레이션 상무)\n",
      "2. **수신자:** 이은채 (테디인터내셔널 대리)\n",
      "3. **주제:** \"ZENESIS\" 자전거 유통 협력 및 미팅 일정 제안\n",
      "4. **요청 사항:**\n",
      "   - ZENESIS 모델의 상세한 브로슈어 요청 (기술 사양, 배터리 성능, 디자인 정보 포함)\n",
      "5. **미팅 제안:**\n",
      "   - 날짜: 다음 주 화요일 (1월 15일)\n",
      "   - 시간: 오전 10시\n",
      "   - 장소: 테디인터내셔널 사무실"
     ]
    }
   ],
   "execution_count": 7
  },
  {
   "metadata": {
    "ExecuteTime": {
     "end_time": "2024-09-24T12:39:33.994692Z",
     "start_time": "2024-09-24T12:39:33.991834Z"
    }
   },
   "cell_type": "code",
   "source": "print(output)",
   "id": "fd72262318ecdf5e",
   "outputs": [
    {
     "name": "stdout",
     "output_type": "stream",
     "text": [
      "**중요 내용 추출:**\n",
      "\n",
      "1. **발신자:** 김철수 (바이크코퍼레이션 상무)\n",
      "2. **수신자:** 이은채 (테디인터내셔널 대리)\n",
      "3. **주제:** \"ZENESIS\" 자전거 유통 협력 및 미팅 일정 제안\n",
      "4. **요청 사항:**\n",
      "   - ZENESIS 모델의 상세한 브로슈어 요청 (기술 사양, 배터리 성능, 디자인 정보 포함)\n",
      "5. **미팅 제안:**\n",
      "   - 날짜: 다음 주 화요일 (1월 15일)\n",
      "   - 시간: 오전 10시\n",
      "   - 장소: 테디인터내셔널 사무실\n"
     ]
    }
   ],
   "execution_count": 8
  },
  {
   "metadata": {
    "ExecuteTime": {
     "end_time": "2024-09-24T12:41:47.142968Z",
     "start_time": "2024-09-24T12:41:47.135812Z"
    }
   },
   "cell_type": "code",
   "source": [
    "class EmailSummary(BaseModel):\n",
    "    person: str = Field(description=\"메일을 보낸 사람\")\n",
    "    email: str = Field(description=\"메일을 보낸 사람의 이메일 주소\")\n",
    "    subject: str = Field(description=\"메일 제목\")\n",
    "    summary: str = Field(description=\"메일 본문을 요약한 텍스트\")\n",
    "    date: str = Field(description=\"메일 본문에 언급된 미팅 날짜와 시간\")\n",
    "\n",
    "\n",
    "# PydanticOutputParser 생성\n",
    "parser = PydanticOutputParser(pydantic_object=EmailSummary)"
   ],
   "id": "3f60d0cc38afbc9",
   "outputs": [],
   "execution_count": 9
  },
  {
   "metadata": {
    "ExecuteTime": {
     "end_time": "2024-09-24T12:41:57.584439Z",
     "start_time": "2024-09-24T12:41:57.580392Z"
    }
   },
   "cell_type": "code",
   "source": "print(parser.get_format_instructions())",
   "id": "7d87271891ff8dd8",
   "outputs": [
    {
     "name": "stdout",
     "output_type": "stream",
     "text": [
      "The output should be formatted as a JSON instance that conforms to the JSON schema below.\n",
      "\n",
      "As an example, for the schema {\"properties\": {\"foo\": {\"title\": \"Foo\", \"description\": \"a list of strings\", \"type\": \"array\", \"items\": {\"type\": \"string\"}}}, \"required\": [\"foo\"]}\n",
      "the object {\"foo\": [\"bar\", \"baz\"]} is a well-formatted instance of the schema. The object {\"properties\": {\"foo\": [\"bar\", \"baz\"]}} is not well-formatted.\n",
      "\n",
      "Here is the output schema:\n",
      "```\n",
      "{\"properties\": {\"person\": {\"title\": \"Person\", \"description\": \"메일을 보낸 사람\", \"type\": \"string\"}, \"email\": {\"title\": \"Email\", \"description\": \"메일을 보낸 사람의 이메일 주소\", \"type\": \"string\"}, \"subject\": {\"title\": \"Subject\", \"description\": \"메일 제목\", \"type\": \"string\"}, \"summary\": {\"title\": \"Summary\", \"description\": \"메일 본문을 요약한 텍스트\", \"type\": \"string\"}, \"date\": {\"title\": \"Date\", \"description\": \"메일 본문에 언급된 미팅 날짜와 시간\", \"type\": \"string\"}}, \"required\": [\"person\", \"email\", \"subject\", \"summary\", \"date\"]}\n",
      "```\n"
     ]
    }
   ],
   "execution_count": 10
  },
  {
   "metadata": {},
   "cell_type": "code",
   "outputs": [],
   "execution_count": null,
   "source": "",
   "id": "7d14af489442aeaa"
  }
 ],
 "metadata": {
  "kernelspec": {
   "display_name": "Python 3",
   "language": "python",
   "name": "python3"
  },
  "language_info": {
   "codemirror_mode": {
    "name": "ipython",
    "version": 2
   },
   "file_extension": ".py",
   "mimetype": "text/x-python",
   "name": "python",
   "nbconvert_exporter": "python",
   "pygments_lexer": "ipython2",
   "version": "2.7.6"
  }
 },
 "nbformat": 4,
 "nbformat_minor": 5
}
